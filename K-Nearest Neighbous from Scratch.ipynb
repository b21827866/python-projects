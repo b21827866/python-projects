{
 "cells": [
  {
   "cell_type": "markdown",
   "id": "4af3a64d",
   "metadata": {},
   "source": [
    "# K-NEAREST NEIGHBOURS FROM SCRATCH\n",
    "\n",
    "\n",
    "Imports"
   ]
  },
  {
   "cell_type": "code",
   "execution_count": 1,
   "id": "3df743bf",
   "metadata": {},
   "outputs": [],
   "source": [
    "import numpy as np\n",
    "import pandas as pd\n",
    "from collections import Counter\n",
    "import random"
   ]
  },
  {
   "cell_type": "markdown",
   "id": "9e5ae366",
   "metadata": {},
   "source": [
    "#### Reading the files and shuffling \n",
    "\n",
    "Datasets contains duplicate elements. glass.csv contains 1, Concrete_Data_Yeh.csv contains 25. Duplicate keys removed because they causes wrong decisions and unstability."
   ]
  },
  {
   "cell_type": "code",
   "execution_count": 2,
   "id": "3c1dca4b",
   "metadata": {},
   "outputs": [],
   "source": [
    "df = pd.read_csv(\"glass.csv\")\n",
    "df = df.drop_duplicates() #removeing duplicate rows\n",
    "df.drop(['Type'], 1)  # dropping the results\n",
    "\n",
    "full_data = df.astype(float).values.tolist()  # converting data to list\n",
    "random.shuffle(full_data)\n",
    "\n",
    "df2 = pd.read_csv(\"Concrete_Data_Yeh.csv\")\n",
    "df2 = df2.drop_duplicates() #removeing duplicate rows\n",
    "df2.drop(['csMPa'], 1)  # dropping the results\n",
    "df2 = df2.drop_duplicates()\n",
    "\n",
    "full_data_concrete = df2.astype(float).values.tolist()  # converting data to list\n",
    "random.shuffle(full_data_concrete)"
   ]
  },
  {
   "cell_type": "markdown",
   "id": "cf087f4d",
   "metadata": {},
   "source": [
    "Finding max and min values in row for normalization calculation"
   ]
  },
  {
   "cell_type": "code",
   "execution_count": 3,
   "id": "00944da8",
   "metadata": {},
   "outputs": [],
   "source": [
    "def dataset_min_max(dataset):  # min and max finder\n",
    "    minmax = list()\n",
    "    for i in range(len(dataset[0])):\n",
    "        col_values = [row[i] for row in dataset]\n",
    "        value_min = min(col_values)\n",
    "        value_max = max(col_values)\n",
    "        minmax.append([value_min, value_max])\n",
    "    return minmax"
   ]
  },
  {
   "cell_type": "markdown",
   "id": "5a0af7f6",
   "metadata": {},
   "source": [
    "Applying normalization formula for rangeing values between 0-1"
   ]
  },
  {
   "cell_type": "code",
   "execution_count": 4,
   "id": "67d27e38",
   "metadata": {},
   "outputs": [],
   "source": [
    "def normalization(dataset, min_max):\n",
    "    for row in dataset:\n",
    "        for i in range(len(row) - 1):\n",
    "            row[i] = (row[i] - min_max[i][0]) / (min_max[i][1] - min_max[i][0])"
   ]
  },
  {
   "cell_type": "markdown",
   "id": "7dbe200d",
   "metadata": {},
   "source": [
    "Splits the data given number of folds. Returns all folds in in a list"
   ]
  },
  {
   "cell_type": "code",
   "execution_count": 5,
   "id": "91612934",
   "metadata": {},
   "outputs": [],
   "source": [
    "def k_fold_split(dataset, k_fold): # splitting data into folds\n",
    "    dataset_split = list()\n",
    "    dataset_copy = list(dataset)\n",
    "    fold_size = int(len(dataset) / k_fold)\n",
    "    for _ in range(k_fold):\n",
    "        fold = list()\n",
    "        while len(fold) < fold_size:\n",
    "            index = 0     #random.randrange(len(dataset_copy))\n",
    "            fold.append(dataset_copy.pop(index))\n",
    "            index += 1\n",
    "        dataset_split.append(fold)\n",
    "    return dataset_split\n"
   ]
  },
  {
   "cell_type": "markdown",
   "id": "9c2c6dbf",
   "metadata": {},
   "source": [
    "#### K-Nearest Neigbors Classification\n",
    "\n",
    "We used Numpy's linear algebra norm for faster calculation. It performs better than standart euclidean distance\n",
    "formula. In result they are same.\n",
    "Counter.most_common function finds most common vote and function returns the vote"
   ]
  },
  {
   "cell_type": "code",
   "execution_count": 6,
   "id": "e57e7c49",
   "metadata": {},
   "outputs": [],
   "source": [
    "def k_nearest_neighbors(data, predict, k):\n",
    "    distances = []\n",
    "    for group in data:\n",
    "        for features in data[group]:\n",
    "            euclidean_distance = np.linalg.norm(np.array(features) - np.array(predict)) # using numpy euclidian distance for faster calculation\n",
    "            distances.append([euclidean_distance, group])\n",
    "\n",
    "    votes = [i[1] for i in sorted(distances)[:k]]\n",
    "    vote_result = Counter(votes).most_common(1)[0][0]\n",
    "    return vote_result"
   ]
  },
  {
   "cell_type": "markdown",
   "id": "bff32315",
   "metadata": {},
   "source": [
    "#### Weighted K-Nearest Neigbors Classification\n",
    "\n",
    "We used 1/distance method for creating weights. To avoid zero division error, if euclidean distance = 0, we assigned weight as 1 / 0.001.\n",
    "We combined weights if they in same class, then result returned "
   ]
  },
  {
   "cell_type": "code",
   "execution_count": 7,
   "id": "e9081d4f",
   "metadata": {},
   "outputs": [],
   "source": [
    "def weighted_k_nearest_neighbors(data, predict, k):\n",
    "\n",
    "    distances = []\n",
    "    for group in data:\n",
    "        for features in data[group]:\n",
    "            euclidean_distance = np.linalg.norm(np.array(features) - np.array(predict))\n",
    "            #distances.append([1 / euclidean_distance, group])\n",
    "            if(euclidean_distance == 0):\n",
    "                distances.append([1/0.001, group])\n",
    "            else:\n",
    "                distances.append([1 / euclidean_distance, group])\n",
    "\n",
    "    b = sorted(distances, key=lambda distances:distances[0], reverse=True)\n",
    "\n",
    "    uniq = []\n",
    "    array = b[:k]\n",
    "    for i in array:\n",
    "        if(len(uniq) == 0):\n",
    "            uniq.append(i)\n",
    "        else:\n",
    "            for j in uniq:\n",
    "                if (j[1] == i[1]):\n",
    "                    j[0] += i[0]\n",
    "\n",
    "            cond = i[1] in (k[1] for k in uniq)\n",
    "            if(cond == False):\n",
    "                uniq.append(i)\n",
    "\n",
    "    c = sorted(uniq, key=lambda uniq:uniq[0], reverse=True)\n",
    "\n",
    "    return c[0][1]"
   ]
  },
  {
   "cell_type": "markdown",
   "id": "618728ab",
   "metadata": {},
   "source": [
    "#### K-Nearest Neigbors Regression\n",
    "\n",
    "Calculating the distances then according to distances, sums k closest points value and returns avg. of them"
   ]
  },
  {
   "cell_type": "code",
   "execution_count": 8,
   "id": "430c65e2",
   "metadata": {},
   "outputs": [],
   "source": [
    "def k_nearest_neighbors_regression(data, predict, k):\n",
    "    summary = 0\n",
    "    distances = []\n",
    "    for group in data:\n",
    "        euclidean_distance = np.linalg.norm(np.array(group[:-1]) - np.array(predict))\n",
    "        distances.append([euclidean_distance,group[-1]])\n",
    "\n",
    "    b = sorted(distances, key=lambda distances:distances[0])\n",
    "    for j in range(k):\n",
    "        summary += b[j][1]\n",
    "\n",
    "    return summary/k"
   ]
  },
  {
   "cell_type": "markdown",
   "id": "5f626299",
   "metadata": {},
   "source": [
    "#### Weighted K-Nearest Neigbors Regression\n",
    "\n",
    "For this one, we used formula explained in class.\n",
    "Sum of all weight x values / sum of all weights.\n",
    "For sorting the 2d array, lambda used"
   ]
  },
  {
   "cell_type": "code",
   "execution_count": 9,
   "id": "97865ce8",
   "metadata": {},
   "outputs": [],
   "source": [
    "def weighted_k_nearest_neighbors_regression(data, predict, k):\n",
    "    sum1 = 0\n",
    "    sum2 = 0\n",
    "    distances = []\n",
    "    for group in data:\n",
    "        euclidean_distance = np.linalg.norm(np.array(group[:-1]) - np.array(predict))\n",
    "        if(euclidean_distance == 0):\n",
    "            distances.append([0, group[-1]])\n",
    "        else:\n",
    "            distances.append([1 / euclidean_distance, group[-1]])\n",
    "    b = sorted(distances, key=lambda distances:distances[0], reverse=True)\n",
    "\n",
    "    for i in b[:k]:\n",
    "        sum1 += i[0]*i[1]\n",
    "        sum2 += i[0]\n",
    "\n",
    "    return sum1/sum2"
   ]
  },
  {
   "cell_type": "markdown",
   "id": "d6c115d8",
   "metadata": {},
   "source": [
    "Calculates accuracy for classification problem\n",
    "\n",
    "Prepares train and test datas then calls knn functions. According the results, accuracy created"
   ]
  },
  {
   "cell_type": "code",
   "execution_count": 10,
   "id": "8a31d953",
   "metadata": {},
   "outputs": [],
   "source": [
    "def accuracy_k_fold(train, test, k, style):\n",
    "\n",
    "    train_set = {1: [], 2: [], 3: [], 5: [], 6: [], 7: []}\n",
    "    test_set = {1: [], 2: [], 3: [], 5: [], 6: [], 7: []}\n",
    "    train_data = train\n",
    "    test_data = test\n",
    "\n",
    "    for i in train_data:\n",
    "        train_set[i[-1]].append(i[:-1])\n",
    "\n",
    "    for i in test_data:\n",
    "        test_set[i[-1]].append(i[:-1])\n",
    "\n",
    "    correct = 0\n",
    "    total = 0\n",
    "\n",
    "    for group in test_set:\n",
    "        for data in test_set[group]:\n",
    "\n",
    "            if(style == \"knn\"):\n",
    "                vote = k_nearest_neighbors(train_set, data, k)\n",
    "            if(style == \"wknn\"):\n",
    "                vote = weighted_k_nearest_neighbors(train_set, data, k)\n",
    "            if group == vote:\n",
    "                correct += 1\n",
    "            total += 1\n",
    "    print('Accuracy:', (correct / total)*100)\n",
    "\n",
    "    return (correct / total)*100"
   ]
  },
  {
   "cell_type": "markdown",
   "id": "d70d5648",
   "metadata": {},
   "source": [
    "Calculates Mean Absulute Error for regression problems"
   ]
  },
  {
   "cell_type": "code",
   "execution_count": 11,
   "id": "02d4bae6",
   "metadata": {},
   "outputs": [],
   "source": [
    "def accuracy_regression(train, test, k, style):\n",
    "\n",
    "    train_set = []\n",
    "    test_set = []\n",
    "    train_data = train[:]\n",
    "    test_data = test[:]\n",
    "\n",
    "    for i in train_data:\n",
    "        train_set.append(i[:-1])\n",
    "\n",
    "    for i in test_data:\n",
    "        test_set.append(i[:-1])\n",
    "\n",
    "    mae = 0\n",
    "    total = 0\n",
    "    for group in test_set:\n",
    "\n",
    "        if(style == \"knnr\"):\n",
    "            prediction = k_nearest_neighbors_regression(train_data, group, k)\n",
    "        elif(style == \"wknnr\"):\n",
    "            prediction = weighted_k_nearest_neighbors_regression(train_data, group, k)\n",
    "\n",
    "        for i in test_data:\n",
    "            if group == i[:-1]:\n",
    "                mae += abs(prediction-i[-1])\n",
    "\n",
    "        total += 1\n",
    "\n",
    "    print('Mean Absolute Error:', mae / total)\n",
    "\n",
    "    return mae / total"
   ]
  },
  {
   "cell_type": "markdown",
   "id": "168847ae",
   "metadata": {},
   "source": [
    "Splitting glass and concrete data into 5 folds"
   ]
  },
  {
   "cell_type": "code",
   "execution_count": 12,
   "id": "1a579b16",
   "metadata": {},
   "outputs": [],
   "source": [
    "dataset_fold_class = k_fold_split(full_data, 5)\n",
    "dataset_fold = k_fold_split(full_data_concrete, 5)"
   ]
  },
  {
   "cell_type": "markdown",
   "id": "5005cec8",
   "metadata": {},
   "source": [
    "Function for printing results"
   ]
  },
  {
   "cell_type": "code",
   "execution_count": 13,
   "id": "3b344f93",
   "metadata": {},
   "outputs": [],
   "source": [
    "def printer(dataset, k , style):\n",
    "    acc = 0\n",
    "    for i in range(0, len(dataset), 1):\n",
    "        train = []\n",
    "        test = list(dataset[i])\n",
    "\n",
    "        for j in range(0, len(dataset), 1):\n",
    "\n",
    "            if(j != i):\n",
    "              train.extend(dataset[j])\n",
    "        if(style == \"knn\"):\n",
    "            acc += accuracy_k_fold(train,test,k,style)\n",
    "        elif(style == \"wknn\"):\n",
    "            acc += accuracy_k_fold(train,test,k,style)\n",
    "        elif(style == \"knnr\"):\n",
    "            acc += accuracy_regression(train,test,k,style)\n",
    "        elif(style == \"wknnr\"):\n",
    "            acc += accuracy_regression(train,test,k,style)\n",
    "\n",
    "    if(style == \"knn\"):\n",
    "        print(\"Avg. Accuracy:\", acc/5)\n",
    "    elif(style == \"wknn\"):\n",
    "        print(\"Avg. Accuracy:\", acc/5)\n",
    "    elif(style == \"knnr\"):\n",
    "        print(\"Avg. Mean Absolute Value:\", acc/5)\n",
    "    elif(style == \"wknnr\"):\n",
    "        print(\"Avg. Mean Absolute Value:\", acc/5)"
   ]
  },
  {
   "cell_type": "markdown",
   "id": "9add19ae",
   "metadata": {},
   "source": [
    "## Accuracies and Mean Absolute Errors\n",
    "\n",
    "\"knn\" = K Nearest Neighbour Classification\n",
    "\n",
    "\"wknn\" = Weighted K Nearest Neighbour Classification\n",
    "\n",
    "\"knnr\" = K Nearest Neighbour Regression\n",
    "\n",
    "\"wknnr\" = weighted K Nearest Neighbour Regression\n",
    "\n",
    "Finding accuracies and Mae's *without normalizaiton* with k = (1,3,5,7,9) \n",
    "\n",
    "**Calculations for k = 1**"
   ]
  },
  {
   "cell_type": "code",
   "execution_count": 14,
   "id": "85ef2497",
   "metadata": {
    "scrolled": false
   },
   "outputs": [
    {
     "name": "stdout",
     "output_type": "stream",
     "text": [
      "Accuracy: 64.28571428571429\n",
      "Accuracy: 78.57142857142857\n",
      "Accuracy: 66.66666666666666\n",
      "Accuracy: 88.09523809523809\n",
      "Accuracy: 73.80952380952381\n",
      "Avg. Accuracy: 74.28571428571428\n"
     ]
    }
   ],
   "source": [
    "printer(dataset_fold_class, 1, \"knn\")"
   ]
  },
  {
   "cell_type": "code",
   "execution_count": 15,
   "id": "39d626f2",
   "metadata": {
    "scrolled": true
   },
   "outputs": [
    {
     "name": "stdout",
     "output_type": "stream",
     "text": [
      "Accuracy: 64.28571428571429\n",
      "Accuracy: 78.57142857142857\n",
      "Accuracy: 66.66666666666666\n",
      "Accuracy: 88.09523809523809\n",
      "Accuracy: 73.80952380952381\n",
      "Avg. Accuracy: 74.28571428571428\n"
     ]
    }
   ],
   "source": [
    "printer(dataset_fold_class, 1, \"wknn\")"
   ]
  },
  {
   "cell_type": "code",
   "execution_count": 16,
   "id": "0ff366e0",
   "metadata": {
    "scrolled": true
   },
   "outputs": [
    {
     "name": "stdout",
     "output_type": "stream",
     "text": [
      "Mean Absolute Error: 7.15363184079602\n",
      "Mean Absolute Error: 7.166666666666664\n",
      "Mean Absolute Error: 6.590099502487559\n",
      "Mean Absolute Error: 6.207363184079603\n",
      "Mean Absolute Error: 6.066218905472639\n",
      "Avg. Mean Absolute Value: 6.636796019900497\n"
     ]
    }
   ],
   "source": [
    "printer(dataset_fold, 1, \"knnr\")"
   ]
  },
  {
   "cell_type": "code",
   "execution_count": 17,
   "id": "c1405155",
   "metadata": {
    "scrolled": true
   },
   "outputs": [
    {
     "name": "stdout",
     "output_type": "stream",
     "text": [
      "Mean Absolute Error: 7.26601990049751\n",
      "Mean Absolute Error: 7.0584577114427836\n",
      "Mean Absolute Error: 6.6379104477611905\n",
      "Mean Absolute Error: 6.400746268656717\n",
      "Mean Absolute Error: 6.336666666666671\n",
      "Avg. Mean Absolute Value: 6.739960199004974\n"
     ]
    }
   ],
   "source": [
    "printer(dataset_fold, 1, \"wknnr\")"
   ]
  },
  {
   "cell_type": "markdown",
   "id": "e43280f6",
   "metadata": {},
   "source": [
    "**Calculations for k = 3**"
   ]
  },
  {
   "cell_type": "code",
   "execution_count": 18,
   "id": "9351cf36",
   "metadata": {
    "scrolled": true
   },
   "outputs": [
    {
     "name": "stdout",
     "output_type": "stream",
     "text": [
      "Accuracy: 47.61904761904761\n",
      "Accuracy: 66.66666666666666\n",
      "Accuracy: 66.66666666666666\n",
      "Accuracy: 85.71428571428571\n",
      "Accuracy: 71.42857142857143\n",
      "Avg. Accuracy: 67.61904761904762\n"
     ]
    }
   ],
   "source": [
    "printer(dataset_fold_class, 3, \"knn\")"
   ]
  },
  {
   "cell_type": "code",
   "execution_count": 19,
   "id": "a3ff5857",
   "metadata": {},
   "outputs": [
    {
     "name": "stdout",
     "output_type": "stream",
     "text": [
      "Accuracy: 47.61904761904761\n",
      "Accuracy: 66.66666666666666\n",
      "Accuracy: 66.66666666666666\n",
      "Accuracy: 85.71428571428571\n",
      "Accuracy: 71.42857142857143\n",
      "Avg. Accuracy: 67.61904761904762\n"
     ]
    }
   ],
   "source": [
    "printer(dataset_fold_class, 3, \"wknn\")"
   ]
  },
  {
   "cell_type": "code",
   "execution_count": 20,
   "id": "56e4ea0c",
   "metadata": {},
   "outputs": [
    {
     "name": "stdout",
     "output_type": "stream",
     "text": [
      "Mean Absolute Error: 7.2536152570480965\n",
      "Mean Absolute Error: 6.4629021558872335\n",
      "Mean Absolute Error: 6.728689883913763\n",
      "Mean Absolute Error: 6.594311774461033\n",
      "Mean Absolute Error: 6.51932006633499\n",
      "Avg. Mean Absolute Value: 6.711767827529023\n"
     ]
    }
   ],
   "source": [
    "printer(dataset_fold, 3, \"knnr\")"
   ]
  },
  {
   "cell_type": "code",
   "execution_count": 21,
   "id": "b9d0865d",
   "metadata": {},
   "outputs": [
    {
     "name": "stdout",
     "output_type": "stream",
     "text": [
      "Mean Absolute Error: 6.367784239404023\n",
      "Mean Absolute Error: 5.610455710835063\n",
      "Mean Absolute Error: 5.9366202182843555\n",
      "Mean Absolute Error: 5.93089492166478\n",
      "Mean Absolute Error: 5.585276399188421\n",
      "Avg. Mean Absolute Value: 5.8862062978753285\n"
     ]
    }
   ],
   "source": [
    "printer(dataset_fold, 3, \"wknnr\")"
   ]
  },
  {
   "cell_type": "markdown",
   "id": "be7699b8",
   "metadata": {},
   "source": [
    "**Calculations for k = 5**"
   ]
  },
  {
   "cell_type": "code",
   "execution_count": 22,
   "id": "07c1b0c5",
   "metadata": {
    "scrolled": true
   },
   "outputs": [
    {
     "name": "stdout",
     "output_type": "stream",
     "text": [
      "Accuracy: 54.761904761904766\n",
      "Accuracy: 71.42857142857143\n",
      "Accuracy: 64.28571428571429\n",
      "Accuracy: 83.33333333333334\n",
      "Accuracy: 69.04761904761905\n",
      "Avg. Accuracy: 68.57142857142858\n"
     ]
    }
   ],
   "source": [
    "printer(dataset_fold_class, 5, \"knn\")"
   ]
  },
  {
   "cell_type": "code",
   "execution_count": 23,
   "id": "65ed7cc3",
   "metadata": {},
   "outputs": [
    {
     "name": "stdout",
     "output_type": "stream",
     "text": [
      "Accuracy: 54.761904761904766\n",
      "Accuracy: 71.42857142857143\n",
      "Accuracy: 66.66666666666666\n",
      "Accuracy: 83.33333333333334\n",
      "Accuracy: 69.04761904761905\n",
      "Avg. Accuracy: 69.04761904761905\n"
     ]
    }
   ],
   "source": [
    "printer(dataset_fold_class, 5, \"wknn\")"
   ]
  },
  {
   "cell_type": "code",
   "execution_count": 24,
   "id": "d64fe125",
   "metadata": {},
   "outputs": [
    {
     "name": "stdout",
     "output_type": "stream",
     "text": [
      "Mean Absolute Error: 7.619074626865677\n",
      "Mean Absolute Error: 6.998557213930351\n",
      "Mean Absolute Error: 7.097661691542283\n",
      "Mean Absolute Error: 7.036626865671644\n",
      "Mean Absolute Error: 6.938159203980096\n",
      "Avg. Mean Absolute Value: 7.13801592039801\n"
     ]
    }
   ],
   "source": [
    "printer(dataset_fold, 5, \"knnr\")"
   ]
  },
  {
   "cell_type": "code",
   "execution_count": 25,
   "id": "958eb544",
   "metadata": {},
   "outputs": [
    {
     "name": "stdout",
     "output_type": "stream",
     "text": [
      "Mean Absolute Error: 6.244278707252336\n",
      "Mean Absolute Error: 5.832250965498885\n",
      "Mean Absolute Error: 5.9374626499907235\n",
      "Mean Absolute Error: 6.062919475129407\n",
      "Mean Absolute Error: 5.529355892942306\n",
      "Avg. Mean Absolute Value: 5.921253538162732\n"
     ]
    }
   ],
   "source": [
    "printer(dataset_fold, 5, \"wknnr\")"
   ]
  },
  {
   "cell_type": "markdown",
   "id": "f5fa178a",
   "metadata": {},
   "source": [
    "**Calculations for k = 7**"
   ]
  },
  {
   "cell_type": "code",
   "execution_count": 26,
   "id": "9f241fe7",
   "metadata": {
    "scrolled": true
   },
   "outputs": [
    {
     "name": "stdout",
     "output_type": "stream",
     "text": [
      "Accuracy: 52.38095238095239\n",
      "Accuracy: 59.523809523809526\n",
      "Accuracy: 61.904761904761905\n",
      "Accuracy: 78.57142857142857\n",
      "Accuracy: 69.04761904761905\n",
      "Avg. Accuracy: 64.28571428571429\n"
     ]
    }
   ],
   "source": [
    "printer(dataset_fold_class, 7, \"knn\")"
   ]
  },
  {
   "cell_type": "code",
   "execution_count": 27,
   "id": "cd72d66e",
   "metadata": {},
   "outputs": [
    {
     "name": "stdout",
     "output_type": "stream",
     "text": [
      "Accuracy: 50.0\n",
      "Accuracy: 69.04761904761905\n",
      "Accuracy: 69.04761904761905\n",
      "Accuracy: 80.95238095238095\n",
      "Accuracy: 69.04761904761905\n",
      "Avg. Accuracy: 67.61904761904762\n"
     ]
    }
   ],
   "source": [
    "printer(dataset_fold_class, 7, \"wknn\")"
   ]
  },
  {
   "cell_type": "code",
   "execution_count": 28,
   "id": "614f51c6",
   "metadata": {},
   "outputs": [
    {
     "name": "stdout",
     "output_type": "stream",
     "text": [
      "Mean Absolute Error: 7.816289978678039\n",
      "Mean Absolute Error: 7.34589196872779\n",
      "Mean Absolute Error: 7.319758351101637\n",
      "Mean Absolute Error: 7.459140014214639\n",
      "Mean Absolute Error: 7.041975835110168\n",
      "Avg. Mean Absolute Value: 7.396611229566455\n"
     ]
    }
   ],
   "source": [
    "printer(dataset_fold, 7, \"knnr\")"
   ]
  },
  {
   "cell_type": "code",
   "execution_count": 29,
   "id": "07937f64",
   "metadata": {},
   "outputs": [
    {
     "name": "stdout",
     "output_type": "stream",
     "text": [
      "Mean Absolute Error: 6.370502173827124\n",
      "Mean Absolute Error: 6.053027124875923\n",
      "Mean Absolute Error: 5.8907716741300735\n",
      "Mean Absolute Error: 6.140923532594241\n",
      "Mean Absolute Error: 5.551164608682939\n",
      "Avg. Mean Absolute Value: 6.00127782282206\n"
     ]
    }
   ],
   "source": [
    "printer(dataset_fold, 7, \"wknnr\")"
   ]
  },
  {
   "cell_type": "markdown",
   "id": "f375d27c",
   "metadata": {},
   "source": [
    "**Calculations for k = 9**"
   ]
  },
  {
   "cell_type": "code",
   "execution_count": 30,
   "id": "ed8a1301",
   "metadata": {
    "scrolled": true
   },
   "outputs": [
    {
     "name": "stdout",
     "output_type": "stream",
     "text": [
      "Accuracy: 52.38095238095239\n",
      "Accuracy: 57.14285714285714\n",
      "Accuracy: 61.904761904761905\n",
      "Accuracy: 78.57142857142857\n",
      "Accuracy: 66.66666666666666\n",
      "Avg. Accuracy: 63.33333333333333\n"
     ]
    }
   ],
   "source": [
    "printer(dataset_fold_class, 9, \"knn\")"
   ]
  },
  {
   "cell_type": "code",
   "execution_count": 31,
   "id": "93d60b80",
   "metadata": {},
   "outputs": [
    {
     "name": "stdout",
     "output_type": "stream",
     "text": [
      "Accuracy: 52.38095238095239\n",
      "Accuracy: 66.66666666666666\n",
      "Accuracy: 66.66666666666666\n",
      "Accuracy: 80.95238095238095\n",
      "Accuracy: 66.66666666666666\n",
      "Avg. Accuracy: 66.66666666666666\n"
     ]
    }
   ],
   "source": [
    "printer(dataset_fold_class, 9, \"wknn\")"
   ]
  },
  {
   "cell_type": "code",
   "execution_count": 32,
   "id": "1ee12beb",
   "metadata": {
    "scrolled": true
   },
   "outputs": [
    {
     "name": "stdout",
     "output_type": "stream",
     "text": [
      "Mean Absolute Error: 7.926346047540074\n",
      "Mean Absolute Error: 7.508501934770591\n",
      "Mean Absolute Error: 7.486003316749586\n",
      "Mean Absolute Error: 7.74017689331122\n",
      "Mean Absolute Error: 7.0831122166943015\n",
      "Avg. Mean Absolute Value: 7.548828081813154\n"
     ]
    }
   ],
   "source": [
    "printer(dataset_fold, 9, \"knnr\")"
   ]
  },
  {
   "cell_type": "code",
   "execution_count": 33,
   "id": "eeb8bcca",
   "metadata": {},
   "outputs": [
    {
     "name": "stdout",
     "output_type": "stream",
     "text": [
      "Mean Absolute Error: 6.389159048653838\n",
      "Mean Absolute Error: 6.162160652818876\n",
      "Mean Absolute Error: 6.017385382531999\n",
      "Mean Absolute Error: 6.237356914946192\n",
      "Mean Absolute Error: 5.563302821717378\n",
      "Avg. Mean Absolute Value: 6.073872964133656\n"
     ]
    }
   ],
   "source": [
    "printer(dataset_fold, 9, \"wknnr\")"
   ]
  },
  {
   "cell_type": "markdown",
   "id": "9c13b4b9",
   "metadata": {},
   "source": [
    "### Using normalization"
   ]
  },
  {
   "cell_type": "code",
   "execution_count": 34,
   "id": "292107f4",
   "metadata": {},
   "outputs": [],
   "source": [
    "normalization(full_data, dataset_min_max(full_data))\n",
    "normalization(full_data_concrete, dataset_min_max(full_data_concrete))\n",
    "dataset_fold_class2 = k_fold_split(full_data, 5)\n",
    "dataset_fold2 = k_fold_split(full_data_concrete, 5)"
   ]
  },
  {
   "cell_type": "markdown",
   "id": "0489d1ba",
   "metadata": {},
   "source": [
    "Finding accuracies and Mae's *with normalizaiton* with k = (1,3,5,7,9) \n",
    "\n",
    "**Calculations for k = 1**"
   ]
  },
  {
   "cell_type": "code",
   "execution_count": 35,
   "id": "f6b397dc",
   "metadata": {
    "scrolled": true
   },
   "outputs": [
    {
     "name": "stdout",
     "output_type": "stream",
     "text": [
      "Accuracy: 69.04761904761905\n",
      "Accuracy: 69.04761904761905\n",
      "Accuracy: 66.66666666666666\n",
      "Accuracy: 83.33333333333334\n",
      "Accuracy: 64.28571428571429\n",
      "Avg. Accuracy: 70.47619047619047\n"
     ]
    }
   ],
   "source": [
    "printer(dataset_fold_class2, 1, \"knn\")"
   ]
  },
  {
   "cell_type": "code",
   "execution_count": 36,
   "id": "da39514b",
   "metadata": {
    "scrolled": true
   },
   "outputs": [
    {
     "name": "stdout",
     "output_type": "stream",
     "text": [
      "Accuracy: 69.04761904761905\n",
      "Accuracy: 69.04761904761905\n",
      "Accuracy: 66.66666666666666\n",
      "Accuracy: 83.33333333333334\n",
      "Accuracy: 64.28571428571429\n",
      "Avg. Accuracy: 70.47619047619047\n"
     ]
    }
   ],
   "source": [
    "printer(dataset_fold_class2, 1, \"wknn\")"
   ]
  },
  {
   "cell_type": "code",
   "execution_count": 37,
   "id": "fc439689",
   "metadata": {},
   "outputs": [
    {
     "name": "stdout",
     "output_type": "stream",
     "text": [
      "Mean Absolute Error: 7.5875621890547285\n",
      "Mean Absolute Error: 7.544776119402984\n",
      "Mean Absolute Error: 7.059950248756216\n",
      "Mean Absolute Error: 6.601542288557214\n",
      "Mean Absolute Error: 6.517014925373137\n",
      "Avg. Mean Absolute Value: 7.062169154228856\n"
     ]
    }
   ],
   "source": [
    "printer(dataset_fold2, 1, \"knnr\")"
   ]
  },
  {
   "cell_type": "code",
   "execution_count": 38,
   "id": "2901a3d2",
   "metadata": {
    "scrolled": true
   },
   "outputs": [
    {
     "name": "stdout",
     "output_type": "stream",
     "text": [
      "Mean Absolute Error: 7.69995024875622\n",
      "Mean Absolute Error: 7.436567164179104\n",
      "Mean Absolute Error: 7.107761194029849\n",
      "Mean Absolute Error: 6.79492537313433\n",
      "Mean Absolute Error: 6.787462686567167\n",
      "Avg. Mean Absolute Value: 7.165333333333334\n"
     ]
    }
   ],
   "source": [
    "printer(dataset_fold2, 1, \"wknnr\")"
   ]
  },
  {
   "cell_type": "markdown",
   "id": "3b787944",
   "metadata": {},
   "source": [
    "**Calculations for k = 3**"
   ]
  },
  {
   "cell_type": "code",
   "execution_count": 39,
   "id": "c7f31d2a",
   "metadata": {
    "scrolled": true
   },
   "outputs": [
    {
     "name": "stdout",
     "output_type": "stream",
     "text": [
      "Accuracy: 59.523809523809526\n",
      "Accuracy: 64.28571428571429\n",
      "Accuracy: 64.28571428571429\n",
      "Accuracy: 80.95238095238095\n",
      "Accuracy: 66.66666666666666\n",
      "Avg. Accuracy: 67.14285714285715\n"
     ]
    }
   ],
   "source": [
    "printer(dataset_fold_class2, 3, \"knn\")"
   ]
  },
  {
   "cell_type": "code",
   "execution_count": 40,
   "id": "42b8c8c2",
   "metadata": {},
   "outputs": [
    {
     "name": "stdout",
     "output_type": "stream",
     "text": [
      "Accuracy: 61.904761904761905\n",
      "Accuracy: 66.66666666666666\n",
      "Accuracy: 64.28571428571429\n",
      "Accuracy: 80.95238095238095\n",
      "Accuracy: 66.66666666666666\n",
      "Avg. Accuracy: 68.0952380952381\n"
     ]
    }
   ],
   "source": [
    "printer(dataset_fold_class2, 3, \"wknn\")"
   ]
  },
  {
   "cell_type": "code",
   "execution_count": 41,
   "id": "227d25b2",
   "metadata": {},
   "outputs": [
    {
     "name": "stdout",
     "output_type": "stream",
     "text": [
      "Mean Absolute Error: 7.14398009950249\n",
      "Mean Absolute Error: 6.886799336650082\n",
      "Mean Absolute Error: 7.116749585406299\n",
      "Mean Absolute Error: 6.522752902155893\n",
      "Mean Absolute Error: 6.947761194029851\n",
      "Avg. Mean Absolute Value: 6.9236086235489225\n"
     ]
    }
   ],
   "source": [
    "printer(dataset_fold2, 3, \"knnr\")"
   ]
  },
  {
   "cell_type": "code",
   "execution_count": 42,
   "id": "5e8df594",
   "metadata": {},
   "outputs": [
    {
     "name": "stdout",
     "output_type": "stream",
     "text": [
      "Mean Absolute Error: 6.431391718955963\n",
      "Mean Absolute Error: 6.155144292055073\n",
      "Mean Absolute Error: 6.343146645568277\n",
      "Mean Absolute Error: 6.198692429037064\n",
      "Mean Absolute Error: 6.0275146952337035\n",
      "Avg. Mean Absolute Value: 6.231177956170017\n"
     ]
    }
   ],
   "source": [
    "printer(dataset_fold2, 3, \"wknnr\")"
   ]
  },
  {
   "cell_type": "markdown",
   "id": "d330c04c",
   "metadata": {},
   "source": [
    "**Calculations for k = 5**"
   ]
  },
  {
   "cell_type": "code",
   "execution_count": 43,
   "id": "65664c2d",
   "metadata": {
    "scrolled": true
   },
   "outputs": [
    {
     "name": "stdout",
     "output_type": "stream",
     "text": [
      "Accuracy: 61.904761904761905\n",
      "Accuracy: 59.523809523809526\n",
      "Accuracy: 66.66666666666666\n",
      "Accuracy: 83.33333333333334\n",
      "Accuracy: 69.04761904761905\n",
      "Avg. Accuracy: 68.0952380952381\n"
     ]
    }
   ],
   "source": [
    "printer(dataset_fold_class2, 5, \"knn\")"
   ]
  },
  {
   "cell_type": "code",
   "execution_count": 44,
   "id": "887bd30d",
   "metadata": {},
   "outputs": [
    {
     "name": "stdout",
     "output_type": "stream",
     "text": [
      "Accuracy: 61.904761904761905\n",
      "Accuracy: 61.904761904761905\n",
      "Accuracy: 66.66666666666666\n",
      "Accuracy: 83.33333333333334\n",
      "Accuracy: 69.04761904761905\n",
      "Avg. Accuracy: 68.57142857142858\n"
     ]
    }
   ],
   "source": [
    "printer(dataset_fold_class2, 5, \"wknn\")"
   ]
  },
  {
   "cell_type": "code",
   "execution_count": 45,
   "id": "19c9504f",
   "metadata": {},
   "outputs": [
    {
     "name": "stdout",
     "output_type": "stream",
     "text": [
      "Mean Absolute Error: 7.365074626865673\n",
      "Mean Absolute Error: 7.157064676616917\n",
      "Mean Absolute Error: 7.433940298507463\n",
      "Mean Absolute Error: 7.089203980099504\n",
      "Mean Absolute Error: 7.222736318407959\n",
      "Avg. Mean Absolute Value: 7.253603980099503\n"
     ]
    }
   ],
   "source": [
    "printer(dataset_fold2, 5, \"knnr\")"
   ]
  },
  {
   "cell_type": "code",
   "execution_count": 46,
   "id": "2e9b8497",
   "metadata": {},
   "outputs": [
    {
     "name": "stdout",
     "output_type": "stream",
     "text": [
      "Mean Absolute Error: 6.496945776991979\n",
      "Mean Absolute Error: 6.235458011638986\n",
      "Mean Absolute Error: 6.51792121473374\n",
      "Mean Absolute Error: 6.453532976353351\n",
      "Mean Absolute Error: 6.0310550779286\n",
      "Avg. Mean Absolute Value: 6.346982611529331\n"
     ]
    }
   ],
   "source": [
    "printer(dataset_fold2, 5, \"wknnr\")"
   ]
  },
  {
   "cell_type": "markdown",
   "id": "0f2f4ad2",
   "metadata": {},
   "source": [
    "**Calculations for k = 7**"
   ]
  },
  {
   "cell_type": "code",
   "execution_count": 47,
   "id": "2d27150c",
   "metadata": {
    "scrolled": true
   },
   "outputs": [
    {
     "name": "stdout",
     "output_type": "stream",
     "text": [
      "Accuracy: 54.761904761904766\n",
      "Accuracy: 57.14285714285714\n",
      "Accuracy: 66.66666666666666\n",
      "Accuracy: 80.95238095238095\n",
      "Accuracy: 71.42857142857143\n",
      "Avg. Accuracy: 66.19047619047619\n"
     ]
    }
   ],
   "source": [
    "printer(dataset_fold_class2, 7, \"knn\")"
   ]
  },
  {
   "cell_type": "code",
   "execution_count": 48,
   "id": "307a389c",
   "metadata": {},
   "outputs": [
    {
     "name": "stdout",
     "output_type": "stream",
     "text": [
      "Accuracy: 54.761904761904766\n",
      "Accuracy: 61.904761904761905\n",
      "Accuracy: 69.04761904761905\n",
      "Accuracy: 80.95238095238095\n",
      "Accuracy: 71.42857142857143\n",
      "Avg. Accuracy: 67.61904761904762\n"
     ]
    }
   ],
   "source": [
    "printer(dataset_fold_class2, 7, \"wknn\")"
   ]
  },
  {
   "cell_type": "code",
   "execution_count": 49,
   "id": "f4f4f369",
   "metadata": {},
   "outputs": [
    {
     "name": "stdout",
     "output_type": "stream",
     "text": [
      "Mean Absolute Error: 7.763240938166311\n",
      "Mean Absolute Error: 7.400952380952379\n",
      "Mean Absolute Error: 7.516744847192608\n",
      "Mean Absolute Error: 7.275785358919691\n",
      "Mean Absolute Error: 7.228898365316275\n",
      "Avg. Mean Absolute Value: 7.437124378109452\n"
     ]
    }
   ],
   "source": [
    "printer(dataset_fold2, 7, \"knnr\")"
   ]
  },
  {
   "cell_type": "code",
   "execution_count": 50,
   "id": "d2b7aa8b",
   "metadata": {},
   "outputs": [
    {
     "name": "stdout",
     "output_type": "stream",
     "text": [
      "Mean Absolute Error: 6.607155945085234\n",
      "Mean Absolute Error: 6.349072054672267\n",
      "Mean Absolute Error: 6.525355768572585\n",
      "Mean Absolute Error: 6.407200791309725\n",
      "Mean Absolute Error: 6.058511417770322\n",
      "Avg. Mean Absolute Value: 6.389459195482027\n"
     ]
    }
   ],
   "source": [
    "printer(dataset_fold2, 7, \"wknnr\")"
   ]
  },
  {
   "cell_type": "markdown",
   "id": "48efc7dc",
   "metadata": {},
   "source": [
    "**Calculations for k = 9**"
   ]
  },
  {
   "cell_type": "code",
   "execution_count": 51,
   "id": "b76c5885",
   "metadata": {
    "scrolled": true
   },
   "outputs": [
    {
     "name": "stdout",
     "output_type": "stream",
     "text": [
      "Accuracy: 52.38095238095239\n",
      "Accuracy: 50.0\n",
      "Accuracy: 57.14285714285714\n",
      "Accuracy: 80.95238095238095\n",
      "Accuracy: 69.04761904761905\n",
      "Avg. Accuracy: 61.904761904761905\n"
     ]
    }
   ],
   "source": [
    "printer(dataset_fold_class2, 9, \"knn\")"
   ]
  },
  {
   "cell_type": "code",
   "execution_count": 52,
   "id": "f67fc63e",
   "metadata": {},
   "outputs": [
    {
     "name": "stdout",
     "output_type": "stream",
     "text": [
      "Accuracy: 57.14285714285714\n",
      "Accuracy: 61.904761904761905\n",
      "Accuracy: 59.523809523809526\n",
      "Accuracy: 78.57142857142857\n",
      "Accuracy: 69.04761904761905\n",
      "Avg. Accuracy: 65.23809523809523\n"
     ]
    }
   ],
   "source": [
    "printer(dataset_fold_class2, 9, \"wknn\")"
   ]
  },
  {
   "cell_type": "code",
   "execution_count": 53,
   "id": "f52b32e2",
   "metadata": {},
   "outputs": [
    {
     "name": "stdout",
     "output_type": "stream",
     "text": [
      "Mean Absolute Error: 8.160657822001108\n",
      "Mean Absolute Error: 7.550160309563298\n",
      "Mean Absolute Error: 7.571376451077941\n",
      "Mean Absolute Error: 7.576495301271421\n",
      "Mean Absolute Error: 7.273432835820896\n",
      "Avg. Mean Absolute Value: 7.626424543946934\n"
     ]
    }
   ],
   "source": [
    "printer(dataset_fold2, 9, \"knnr\")"
   ]
  },
  {
   "cell_type": "code",
   "execution_count": 54,
   "id": "76f7e2d3",
   "metadata": {
    "scrolled": true
   },
   "outputs": [
    {
     "name": "stdout",
     "output_type": "stream",
     "text": [
      "Mean Absolute Error: 6.845825328152691\n",
      "Mean Absolute Error: 6.421073055942643\n",
      "Mean Absolute Error: 6.5968591644634795\n",
      "Mean Absolute Error: 6.550139009907824\n",
      "Mean Absolute Error: 6.021961675794203\n",
      "Avg. Mean Absolute Value: 6.487171646852168\n"
     ]
    }
   ],
   "source": [
    "printer(dataset_fold2, 9, \"wknnr\")"
   ]
  },
  {
   "cell_type": "markdown",
   "id": "f1d25493",
   "metadata": {},
   "source": [
    "# Report\n",
    "\n",
    "##### Introduction\n",
    "\n",
    "In this assignment, we are expected to implement k nearest neighbor algorithm to predict glass type and concrete strenght . We experienced different types of KNN(Classification, Regression). We also extented our KNN algorithm as weighted\n",
    "KNN.\n",
    "\n",
    "\n",
    "*(N) = With Normalization*\n",
    "\n",
    "#### Classification\n"
   ]
  },
  {
   "cell_type": "markdown",
   "id": "d0e0674b",
   "metadata": {},
   "source": [
    "\n",
    "| Style | k=1 | k=3| k=5 | k=7 | k=9 |\n",
    "|----|----|----|----|----|----|\n",
    "|K Nearest Neighbour Classification|74.28571428571428|67.61904761904762|68.57142857142858|64.28571428571429|63.33333333333333|\n",
    "|Weighted K Nearest Neighbour Classification|74.28571428571428|67.61904761904762|69.04761904761905|67.61904761904762|66.66666666666666|\n",
    "|(N)K Nearest Neighbour Classification|70.47619047619047|67.14285714285715|68.0952380952381|66.19047619047619|61.904761904761905|\n",
    "|(N)Weighted K Nearest Neighbour Classification|70.47619047619047|68.0952380952381|68.57142857142858|67.61904761904762|65.23809523809523|"
   ]
  },
  {
   "cell_type": "markdown",
   "id": "4f1b9271",
   "metadata": {},
   "source": [
    "Analysing glass.csv "
   ]
  },
  {
   "cell_type": "code",
   "execution_count": 55,
   "id": "2f4cbff8",
   "metadata": {
    "scrolled": true
   },
   "outputs": [
    {
     "data": {
      "text/plain": [
       "2    76\n",
       "1    69\n",
       "7    29\n",
       "3    17\n",
       "5    13\n",
       "6     9\n",
       "Name: Type, dtype: int64"
      ]
     },
     "execution_count": 55,
     "metadata": {},
     "output_type": "execute_result"
    }
   ],
   "source": [
    "df['Type'].value_counts()"
   ]
  },
  {
   "cell_type": "markdown",
   "id": "5a849878",
   "metadata": {},
   "source": [
    "Data is pretty unbalanced. We have a few samples of types 3, 5, 6. When we split data to %20 vs %80 possibility of this types very low. This creates harder decisions to make."
   ]
  },
  {
   "cell_type": "code",
   "execution_count": 56,
   "id": "6c5a46c4",
   "metadata": {
    "scrolled": true
   },
   "outputs": [
    {
     "data": {
      "text/html": [
       "<div>\n",
       "<style scoped>\n",
       "    .dataframe tbody tr th:only-of-type {\n",
       "        vertical-align: middle;\n",
       "    }\n",
       "\n",
       "    .dataframe tbody tr th {\n",
       "        vertical-align: top;\n",
       "    }\n",
       "\n",
       "    .dataframe thead th {\n",
       "        text-align: right;\n",
       "    }\n",
       "</style>\n",
       "<table border=\"1\" class=\"dataframe\">\n",
       "  <thead>\n",
       "    <tr style=\"text-align: right;\">\n",
       "      <th></th>\n",
       "      <th>RI</th>\n",
       "      <th>Na</th>\n",
       "      <th>Mg</th>\n",
       "      <th>Al</th>\n",
       "      <th>Si</th>\n",
       "      <th>K</th>\n",
       "      <th>Ca</th>\n",
       "      <th>Ba</th>\n",
       "      <th>Fe</th>\n",
       "      <th>Type</th>\n",
       "    </tr>\n",
       "  </thead>\n",
       "  <tbody>\n",
       "    <tr>\n",
       "      <th>count</th>\n",
       "      <td>213.000000</td>\n",
       "      <td>213.000000</td>\n",
       "      <td>213.000000</td>\n",
       "      <td>213.000000</td>\n",
       "      <td>213.000000</td>\n",
       "      <td>213.000000</td>\n",
       "      <td>213.000000</td>\n",
       "      <td>213.000000</td>\n",
       "      <td>213.000000</td>\n",
       "      <td>213.000000</td>\n",
       "    </tr>\n",
       "    <tr>\n",
       "      <th>mean</th>\n",
       "      <td>1.518348</td>\n",
       "      <td>13.404085</td>\n",
       "      <td>2.679202</td>\n",
       "      <td>1.449484</td>\n",
       "      <td>72.655070</td>\n",
       "      <td>0.498873</td>\n",
       "      <td>8.954085</td>\n",
       "      <td>0.175869</td>\n",
       "      <td>0.057277</td>\n",
       "      <td>2.788732</td>\n",
       "    </tr>\n",
       "    <tr>\n",
       "      <th>std</th>\n",
       "      <td>0.003033</td>\n",
       "      <td>0.816662</td>\n",
       "      <td>1.443691</td>\n",
       "      <td>0.495925</td>\n",
       "      <td>0.773998</td>\n",
       "      <td>0.653185</td>\n",
       "      <td>1.425882</td>\n",
       "      <td>0.498245</td>\n",
       "      <td>0.097589</td>\n",
       "      <td>2.105130</td>\n",
       "    </tr>\n",
       "    <tr>\n",
       "      <th>min</th>\n",
       "      <td>1.511150</td>\n",
       "      <td>10.730000</td>\n",
       "      <td>0.000000</td>\n",
       "      <td>0.290000</td>\n",
       "      <td>69.810000</td>\n",
       "      <td>0.000000</td>\n",
       "      <td>5.430000</td>\n",
       "      <td>0.000000</td>\n",
       "      <td>0.000000</td>\n",
       "      <td>1.000000</td>\n",
       "    </tr>\n",
       "    <tr>\n",
       "      <th>25%</th>\n",
       "      <td>1.516520</td>\n",
       "      <td>12.900000</td>\n",
       "      <td>2.090000</td>\n",
       "      <td>1.190000</td>\n",
       "      <td>72.280000</td>\n",
       "      <td>0.130000</td>\n",
       "      <td>8.240000</td>\n",
       "      <td>0.000000</td>\n",
       "      <td>0.000000</td>\n",
       "      <td>1.000000</td>\n",
       "    </tr>\n",
       "    <tr>\n",
       "      <th>50%</th>\n",
       "      <td>1.517680</td>\n",
       "      <td>13.300000</td>\n",
       "      <td>3.480000</td>\n",
       "      <td>1.360000</td>\n",
       "      <td>72.790000</td>\n",
       "      <td>0.560000</td>\n",
       "      <td>8.600000</td>\n",
       "      <td>0.000000</td>\n",
       "      <td>0.000000</td>\n",
       "      <td>2.000000</td>\n",
       "    </tr>\n",
       "    <tr>\n",
       "      <th>75%</th>\n",
       "      <td>1.519150</td>\n",
       "      <td>13.810000</td>\n",
       "      <td>3.600000</td>\n",
       "      <td>1.630000</td>\n",
       "      <td>73.090000</td>\n",
       "      <td>0.610000</td>\n",
       "      <td>9.150000</td>\n",
       "      <td>0.000000</td>\n",
       "      <td>0.100000</td>\n",
       "      <td>3.000000</td>\n",
       "    </tr>\n",
       "    <tr>\n",
       "      <th>max</th>\n",
       "      <td>1.533930</td>\n",
       "      <td>17.380000</td>\n",
       "      <td>4.490000</td>\n",
       "      <td>3.500000</td>\n",
       "      <td>75.410000</td>\n",
       "      <td>6.210000</td>\n",
       "      <td>16.190000</td>\n",
       "      <td>3.150000</td>\n",
       "      <td>0.510000</td>\n",
       "      <td>7.000000</td>\n",
       "    </tr>\n",
       "  </tbody>\n",
       "</table>\n",
       "</div>"
      ],
      "text/plain": [
       "               RI          Na          Mg          Al          Si           K  \\\n",
       "count  213.000000  213.000000  213.000000  213.000000  213.000000  213.000000   \n",
       "mean     1.518348   13.404085    2.679202    1.449484   72.655070    0.498873   \n",
       "std      0.003033    0.816662    1.443691    0.495925    0.773998    0.653185   \n",
       "min      1.511150   10.730000    0.000000    0.290000   69.810000    0.000000   \n",
       "25%      1.516520   12.900000    2.090000    1.190000   72.280000    0.130000   \n",
       "50%      1.517680   13.300000    3.480000    1.360000   72.790000    0.560000   \n",
       "75%      1.519150   13.810000    3.600000    1.630000   73.090000    0.610000   \n",
       "max      1.533930   17.380000    4.490000    3.500000   75.410000    6.210000   \n",
       "\n",
       "               Ca          Ba          Fe        Type  \n",
       "count  213.000000  213.000000  213.000000  213.000000  \n",
       "mean     8.954085    0.175869    0.057277    2.788732  \n",
       "std      1.425882    0.498245    0.097589    2.105130  \n",
       "min      5.430000    0.000000    0.000000    1.000000  \n",
       "25%      8.240000    0.000000    0.000000    1.000000  \n",
       "50%      8.600000    0.000000    0.000000    2.000000  \n",
       "75%      9.150000    0.000000    0.100000    3.000000  \n",
       "max     16.190000    3.150000    0.510000    7.000000  "
      ]
     },
     "execution_count": 56,
     "metadata": {},
     "output_type": "execute_result"
    }
   ],
   "source": [
    "df.describe()"
   ]
  },
  {
   "cell_type": "markdown",
   "id": "ee25aac7",
   "metadata": {},
   "source": [
    "Only Si has a different range from other attributes. Normalization doesn't effect the accuracy much. Sometimes performs worse. I think the reason is RI has a range 1.533930(max) - 1.511150(min) = *0.02278* and Fe has a range 0.510000(max) - 0.00000(min) = *0.510000*. We are increasing the ranges between 0-1(Older max - min value = 0.02278 now max - min value = 1)."
   ]
  },
  {
   "cell_type": "markdown",
   "id": "994ca5d7",
   "metadata": {},
   "source": [
    "In K Nearest Neighbour Classification when k increase, the accuracy lowers (Small accuracy increase on k=5). Also Weighted K Nearest Neighbour Classification performs same. But while k > 3 weighted knn gives us a better result standart knn. There is no best k value in knn. Finding the best knn is related to data not the knn algorithm we choose. Experiencing different k values on data then finding the sweet spot.  "
   ]
  },
  {
   "cell_type": "markdown",
   "id": "3bfea209",
   "metadata": {},
   "source": [
    "Sample hard to classify 1.51316,13.02,0,3.04,70.48,6.21,6.96,0,0,5\n",
    "\n",
    "Because Al, K and Ca attributes of this sample very different than other Type 5 glass attributes."
   ]
  },
  {
   "cell_type": "markdown",
   "id": "e1d19215",
   "metadata": {},
   "source": [
    "### Regression\n",
    "\n",
    "\n",
    "| Style | k=1 | k=3| k=5 | k=7 | k=9 |\n",
    "|----|----|----|----|----|----|\n",
    "|K Nearest Neighbour Regression|6.636796019900497|6.711767827529023|7.13801592039801|7.396611229566455|7.548828081813154|\n",
    "|Weighted K Nearest Neighbour Regression|6.739960199004974|5.8862062978753285|5.921253538162732|6.00127782282206|6.073872964133656|\n",
    "|(N)K Nearest Neighbour Regression|7.062169154228856|6.9236086235489225|7.253603980099503|7.437124378109452|7.626424543946934|\n",
    "|(N)Weighted K Nearest Neighbour Regression|7.165333333333334|6.231177956170017|6.346982611529331|6.389459195482027|6.487171646852168|"
   ]
  },
  {
   "cell_type": "code",
   "execution_count": 57,
   "id": "d18a8192",
   "metadata": {
    "scrolled": true
   },
   "outputs": [
    {
     "data": {
      "text/html": [
       "<div>\n",
       "<style scoped>\n",
       "    .dataframe tbody tr th:only-of-type {\n",
       "        vertical-align: middle;\n",
       "    }\n",
       "\n",
       "    .dataframe tbody tr th {\n",
       "        vertical-align: top;\n",
       "    }\n",
       "\n",
       "    .dataframe thead th {\n",
       "        text-align: right;\n",
       "    }\n",
       "</style>\n",
       "<table border=\"1\" class=\"dataframe\">\n",
       "  <thead>\n",
       "    <tr style=\"text-align: right;\">\n",
       "      <th></th>\n",
       "      <th>cement</th>\n",
       "      <th>slag</th>\n",
       "      <th>flyash</th>\n",
       "      <th>water</th>\n",
       "      <th>superplasticizer</th>\n",
       "      <th>coarseaggregate</th>\n",
       "      <th>fineaggregate</th>\n",
       "      <th>age</th>\n",
       "      <th>csMPa</th>\n",
       "    </tr>\n",
       "  </thead>\n",
       "  <tbody>\n",
       "    <tr>\n",
       "      <th>count</th>\n",
       "      <td>1005.000000</td>\n",
       "      <td>1005.000000</td>\n",
       "      <td>1005.000000</td>\n",
       "      <td>1005.000000</td>\n",
       "      <td>1005.000000</td>\n",
       "      <td>1005.000000</td>\n",
       "      <td>1005.000000</td>\n",
       "      <td>1005.000000</td>\n",
       "      <td>1005.000000</td>\n",
       "    </tr>\n",
       "    <tr>\n",
       "      <th>mean</th>\n",
       "      <td>278.631343</td>\n",
       "      <td>72.043483</td>\n",
       "      <td>55.536318</td>\n",
       "      <td>182.075323</td>\n",
       "      <td>6.033234</td>\n",
       "      <td>974.376816</td>\n",
       "      <td>772.688259</td>\n",
       "      <td>45.856716</td>\n",
       "      <td>35.250378</td>\n",
       "    </tr>\n",
       "    <tr>\n",
       "      <th>std</th>\n",
       "      <td>104.344261</td>\n",
       "      <td>86.170807</td>\n",
       "      <td>64.207969</td>\n",
       "      <td>21.339334</td>\n",
       "      <td>5.919967</td>\n",
       "      <td>77.579667</td>\n",
       "      <td>80.340435</td>\n",
       "      <td>63.734692</td>\n",
       "      <td>16.284815</td>\n",
       "    </tr>\n",
       "    <tr>\n",
       "      <th>min</th>\n",
       "      <td>102.000000</td>\n",
       "      <td>0.000000</td>\n",
       "      <td>0.000000</td>\n",
       "      <td>121.800000</td>\n",
       "      <td>0.000000</td>\n",
       "      <td>801.000000</td>\n",
       "      <td>594.000000</td>\n",
       "      <td>1.000000</td>\n",
       "      <td>2.330000</td>\n",
       "    </tr>\n",
       "    <tr>\n",
       "      <th>25%</th>\n",
       "      <td>190.700000</td>\n",
       "      <td>0.000000</td>\n",
       "      <td>0.000000</td>\n",
       "      <td>166.600000</td>\n",
       "      <td>0.000000</td>\n",
       "      <td>932.000000</td>\n",
       "      <td>724.300000</td>\n",
       "      <td>7.000000</td>\n",
       "      <td>23.520000</td>\n",
       "    </tr>\n",
       "    <tr>\n",
       "      <th>50%</th>\n",
       "      <td>265.000000</td>\n",
       "      <td>20.000000</td>\n",
       "      <td>0.000000</td>\n",
       "      <td>185.700000</td>\n",
       "      <td>6.100000</td>\n",
       "      <td>968.000000</td>\n",
       "      <td>780.000000</td>\n",
       "      <td>28.000000</td>\n",
       "      <td>33.800000</td>\n",
       "    </tr>\n",
       "    <tr>\n",
       "      <th>75%</th>\n",
       "      <td>349.000000</td>\n",
       "      <td>142.500000</td>\n",
       "      <td>118.300000</td>\n",
       "      <td>192.900000</td>\n",
       "      <td>10.000000</td>\n",
       "      <td>1031.000000</td>\n",
       "      <td>822.200000</td>\n",
       "      <td>56.000000</td>\n",
       "      <td>44.870000</td>\n",
       "    </tr>\n",
       "    <tr>\n",
       "      <th>max</th>\n",
       "      <td>540.000000</td>\n",
       "      <td>359.400000</td>\n",
       "      <td>200.100000</td>\n",
       "      <td>247.000000</td>\n",
       "      <td>32.200000</td>\n",
       "      <td>1145.000000</td>\n",
       "      <td>992.600000</td>\n",
       "      <td>365.000000</td>\n",
       "      <td>82.600000</td>\n",
       "    </tr>\n",
       "  </tbody>\n",
       "</table>\n",
       "</div>"
      ],
      "text/plain": [
       "            cement         slag       flyash        water  superplasticizer  \\\n",
       "count  1005.000000  1005.000000  1005.000000  1005.000000       1005.000000   \n",
       "mean    278.631343    72.043483    55.536318   182.075323          6.033234   \n",
       "std     104.344261    86.170807    64.207969    21.339334          5.919967   \n",
       "min     102.000000     0.000000     0.000000   121.800000          0.000000   \n",
       "25%     190.700000     0.000000     0.000000   166.600000          0.000000   \n",
       "50%     265.000000    20.000000     0.000000   185.700000          6.100000   \n",
       "75%     349.000000   142.500000   118.300000   192.900000         10.000000   \n",
       "max     540.000000   359.400000   200.100000   247.000000         32.200000   \n",
       "\n",
       "       coarseaggregate  fineaggregate          age        csMPa  \n",
       "count      1005.000000    1005.000000  1005.000000  1005.000000  \n",
       "mean        974.376816     772.688259    45.856716    35.250378  \n",
       "std          77.579667      80.340435    63.734692    16.284815  \n",
       "min         801.000000     594.000000     1.000000     2.330000  \n",
       "25%         932.000000     724.300000     7.000000    23.520000  \n",
       "50%         968.000000     780.000000    28.000000    33.800000  \n",
       "75%        1031.000000     822.200000    56.000000    44.870000  \n",
       "max        1145.000000     992.600000   365.000000    82.600000  "
      ]
     },
     "execution_count": 57,
     "metadata": {},
     "output_type": "execute_result"
    }
   ],
   "source": [
    "df2.describe()"
   ]
  },
  {
   "cell_type": "markdown",
   "id": "202e5ebe",
   "metadata": {},
   "source": [
    "For k=1 K Nearest Neighbour Regression and Weighted K Nearest Neighbour Regression MAE's must be same but they are not. Because dataset has a samples with same feautures and different csMPa's. Dropping duplicate feautures will generates better results. But choosing which one to drop is an another question. "
   ]
  },
  {
   "cell_type": "markdown",
   "id": "36f153d3",
   "metadata": {},
   "source": [
    "Dataset has a different ranges but difference is not big. So applying normalization gives a similar results. Also the problem mentioned above creates unstability so we can't see the normalization actually works. "
   ]
  },
  {
   "cell_type": "markdown",
   "id": "f23ca053",
   "metadata": {},
   "source": [
    "In K Nearest Neighbour Regression when k increase, error also increase. For Weighted K Nearest Neighbour Regression when k =3 ,5 gives us a better results. Weighted knn for regression is generates better results than knn regression. "
   ]
  },
  {
   "cell_type": "markdown",
   "id": "c3ab0a45",
   "metadata": {},
   "source": []
  },
  {
   "cell_type": "markdown",
   "id": "c72c2b7c",
   "metadata": {},
   "source": []
  },
  {
   "cell_type": "code",
   "execution_count": null,
   "id": "13daa1e2",
   "metadata": {},
   "outputs": [],
   "source": []
  }
 ],
 "metadata": {
  "kernelspec": {
   "display_name": "Python 3",
   "language": "python",
   "name": "python3"
  },
  "language_info": {
   "codemirror_mode": {
    "name": "ipython",
    "version": 3
   },
   "file_extension": ".py",
   "mimetype": "text/x-python",
   "name": "python",
   "nbconvert_exporter": "python",
   "pygments_lexer": "ipython3",
   "version": "3.8.8"
  }
 },
 "nbformat": 4,
 "nbformat_minor": 5
}
