{
 "cells": [
  {
   "cell_type": "markdown",
   "id": "e4d3514b",
   "metadata": {},
   "source": [
    "# HACETTEPE UNIVERSITY MACHINE LEARNING LAB. ASSIGNMENT 4\n",
    "\n",
    "\n",
    "\n",
    "Imports"
   ]
  },
  {
   "cell_type": "code",
   "execution_count": 1,
   "id": "837cfdde",
   "metadata": {},
   "outputs": [],
   "source": [
    "import numpy as np\n",
    "import matplotlib.pyplot as plt\n",
    "import os\n",
    "import cv2\n",
    "from tqdm import tqdm\n",
    "import random"
   ]
  },
  {
   "cell_type": "markdown",
   "id": "8c27fe0e",
   "metadata": {},
   "source": [
    "Reading images with opencv"
   ]
  },
  {
   "cell_type": "code",
   "execution_count": 2,
   "id": "6b3e40f8",
   "metadata": {},
   "outputs": [
    {
     "name": "stderr",
     "output_type": "stream",
     "text": [
      "100%|██████████| 4863/4863 [00:02<00:00, 2176.81it/s]\n",
      "100%|██████████| 2623/2623 [00:01<00:00, 2091.71it/s]\n",
      "100%|██████████| 1446/1446 [00:01<00:00, 1119.20it/s]\n",
      "100%|██████████| 2112/2112 [00:01<00:00, 1335.02it/s]\n",
      "100%|██████████| 3098/3098 [00:01<00:00, 1941.10it/s]\n",
      "100%|██████████| 1668/1668 [00:04<00:00, 397.71it/s] \n",
      "100%|██████████| 1866/1866 [00:00<00:00, 2144.85it/s]\n",
      "100%|██████████| 1820/1820 [00:01<00:00, 1216.61it/s]\n",
      "100%|██████████| 4821/4821 [00:02<00:00, 1879.53it/s]\n",
      "100%|██████████| 1862/1862 [00:00<00:00, 2135.32it/s]\n"
     ]
    }
   ],
   "source": [
    "DATADIR = \"C:/Users/90552/Desktop/animals/raw-img\"\n",
    "\n",
    "CATEGORIES = [\"cane\", \"cavallo\", \"elefante\", \"farfalla\", \"gallina\", \"gatto\", \"mucca\", \"pecora\", \"ragno\", \"scoiattolo\"]\n",
    "IMG_SIZE = 50\n",
    "training_data = []\n",
    "\n",
    "def create_training_data():\n",
    "    for category in CATEGORIES:  # do dogs and cats\n",
    "\n",
    "        path = os.path.join(DATADIR,category)  # create path to dogs and cats\n",
    "        class_num = CATEGORIES.index(category)  # get the classification  (0 or a 1). 0=dog 1=cat\n",
    "\n",
    "        for img in tqdm(os.listdir(path)):  # iterate over each image per dogs and cats\n",
    "            try:\n",
    "                img_array = cv2.imread(os.path.join(path,img) ,cv2.IMREAD_GRAYSCALE)  # convert to array\n",
    "                new_array = cv2.resize(img_array, (IMG_SIZE, IMG_SIZE))  # resize to normalize data size\n",
    "                training_data.append([new_array, class_num+1])  # add this to our training_data\n",
    "            except Exception as e:  # in the interest in keeping the output clean...\n",
    "                pass\n",
    "            #except OSError as e:\n",
    "            #    print(\"OSErrroBad img most likely\", e, os.path.join(path,img))\n",
    "            #except Exception as e:\n",
    "            #    print(\"general exception\", e, os.path.join(path,img))\n",
    "\n",
    "create_training_data()"
   ]
  },
  {
   "cell_type": "code",
   "execution_count": 4,
   "id": "2b489489",
   "metadata": {},
   "outputs": [
    {
     "name": "stdout",
     "output_type": "stream",
     "text": [
      "Lenght of the Data: 26179\n",
      "Class Distribution\n",
      "5\n",
      "3\n",
      "1\n",
      "1\n",
      "2\n",
      "9\n",
      "2\n",
      "10\n",
      "1\n",
      "9\n",
      "7\n",
      "9\n",
      "7\n",
      "7\n",
      "9\n",
      "3\n",
      "9\n",
      "7\n",
      "1\n",
      "2\n"
     ]
    }
   ],
   "source": [
    "print(\"Lenght of the Data: \" + str(len(training_data)))\n",
    "random.shuffle(training_data)\n",
    "print(\"Class Distribution\")\n",
    "for sample in training_data[:20]:\n",
    "    print(sample[1])\n",
    "\n",
    "X = []\n",
    "y = []\n",
    "\n",
    "for features,label in training_data:\n",
    "    X.append(features)\n",
    "    y.append(label)\n",
    "\n",
    "X = np.array(X).reshape(-1, IMG_SIZE, IMG_SIZE) #converting into numpy array"
   ]
  },
  {
   "cell_type": "code",
   "execution_count": 6,
   "id": "35fb023b",
   "metadata": {},
   "outputs": [
    {
     "name": "stdout",
     "output_type": "stream",
     "text": [
      "[0 0 0 0 1 0 0 0 0 0]\n",
      "(5236, 10)\n"
     ]
    }
   ],
   "source": [
    "list = []\n",
    "for x in X:\n",
    "  list.append(x.flatten()) #flatten data\n",
    "\n",
    "data = np.array(list)\n",
    "m, n = data.shape\n",
    "y = np.array(y)\n",
    "\n",
    "y1 = y\n",
    "y1 = (y1[:,None] == np.arange(y1.max())+1).astype(int) # convert labels to [0 0 0 0 1 0 0 0 0 0] \n",
    "print(y1[0])\n",
    "\n",
    "\n",
    "data_t = data.T\n",
    "num = round(data[:, 0].size*0.8)\n",
    "train1, test1 = data[:num,:], data[num:,:]\n",
    "\n",
    "train = train1 / 255 #normalize data\n",
    "test = test1 / 255 #normalize data\n",
    "\n",
    "train_label, test_label = y1[:num], y1[num:]\n",
    "print(test_label.shape)"
   ]
  },
  {
   "cell_type": "markdown",
   "id": "2caece9a",
   "metadata": {},
   "source": [
    "Activation functions"
   ]
  },
  {
   "cell_type": "code",
   "execution_count": 5,
   "id": "dc4e7e7d",
   "metadata": {},
   "outputs": [],
   "source": [
    "def tanh(x):\n",
    "    return np.tanh(x)\n",
    "\n",
    "def relu(x):\n",
    "    return np.maximum(x, 0)\n",
    "\n",
    "def softmax(x):\n",
    "    expX = np.exp(x)\n",
    "    return expX/np.sum(expX, axis = 0)"
   ]
  },
  {
   "cell_type": "markdown",
   "id": "88e655e4",
   "metadata": {},
   "source": [
    "and its derivatives"
   ]
  },
  {
   "cell_type": "code",
   "execution_count": 6,
   "id": "122048cf",
   "metadata": {},
   "outputs": [],
   "source": [
    "def derivative_tanh(x):\n",
    "    return (1 - np.power(np.tanh(x), 2))\n",
    "\n",
    "def derivative_relu(x):\n",
    "    return np.array(x > 0, dtype = np.float32)"
   ]
  },
  {
   "cell_type": "markdown",
   "id": "48478576",
   "metadata": {},
   "source": [
    "Initilazing parameters with np.random"
   ]
  },
  {
   "cell_type": "code",
   "execution_count": 7,
   "id": "b15afbe9",
   "metadata": {},
   "outputs": [],
   "source": [
    "def initialize_parameters(n_x, n_h, n_y):\n",
    "    w1 = np.random.randn(n_h, n_x)*0.01\n",
    "    #w1 = np.random.uniform(-0.5, 0.5, (n_h, n_x))\n",
    "    b1 = np.zeros((n_h, 1))\n",
    "    \n",
    "    w2 = np.random.randn(n_y, n_h)*0.01\n",
    "    #w2 = np.random.uniform(-0.5, 0.5, (n_y, n_h))\n",
    "    b2 = np.zeros((n_y, 1))\n",
    "    \n",
    "    parameters = {\n",
    "        \"w1\" : w1,\n",
    "        \"b1\" : b1,\n",
    "        \"w2\" : w2,\n",
    "        \"b2\" : b2\n",
    "    }\n",
    "    \n",
    "    return parameters"
   ]
  },
  {
   "cell_type": "markdown",
   "id": "165282b9",
   "metadata": {},
   "source": [
    "The input provides the initial information that then propagates to the hidden units at each layer and finally produce the output "
   ]
  },
  {
   "cell_type": "code",
   "execution_count": 8,
   "id": "08d5d18c",
   "metadata": {},
   "outputs": [],
   "source": [
    "def forward_propagation(x, parameters, activation):\n",
    "    \n",
    "    w1 = parameters['w1']\n",
    "    b1 = parameters['b1']\n",
    "    w2 = parameters['w2']\n",
    "    b2 = parameters['b2']\n",
    "    \n",
    "    z1 = np.dot(w1, x) + b1\n",
    "    \n",
    "    if(activation == 'relu'):\n",
    "        a1 = relu(z1)\n",
    "    else:\n",
    "        a1 = tanh(z1)\n",
    "    \n",
    "    \n",
    "    z2 = np.dot(w2, a1) + b2\n",
    "    a2 = softmax(z2)\n",
    "    \n",
    "    forward_cache = {\n",
    "        \"z1\" : z1,\n",
    "        \"a1\" : a1,\n",
    "        \"z2\" : z2,\n",
    "        \"a2\" : a2\n",
    "    }\n",
    "    \n",
    "    return forward_cache"
   ]
  },
  {
   "cell_type": "markdown",
   "id": "75bd3635",
   "metadata": {},
   "source": [
    "Calculates negative log-likelilood"
   ]
  },
  {
   "cell_type": "code",
   "execution_count": 9,
   "id": "9731538b",
   "metadata": {},
   "outputs": [],
   "source": [
    "def cost_function(a2, y, batch_size):\n",
    "    m = batch_size #y.shape[1]\n",
    "    \n",
    "    cost = -(1/m)*np.sum(y*np.log(a2))\n",
    "    \n",
    "    #cost = -(1/m)*np.sum(np.sum(y*np.log(a2, 0), 1))\n",
    "    \n",
    "    return cost"
   ]
  },
  {
   "cell_type": "markdown",
   "id": "7d09b842",
   "metadata": {},
   "source": [
    "Calculates dw and db"
   ]
  },
  {
   "cell_type": "code",
   "execution_count": 10,
   "id": "4a3b09a4",
   "metadata": {},
   "outputs": [],
   "source": [
    "def backward_prop(x, y, parameters, forward_cache, activation):\n",
    "    \n",
    "    w1 = parameters['w1']\n",
    "    b1 = parameters['b1']\n",
    "    w2 = parameters['w2']\n",
    "    b2 = parameters['b2']\n",
    "    \n",
    "    a1 = forward_cache['a1']\n",
    "    a2 = forward_cache['a2']\n",
    "    \n",
    "    m = x.shape[1]\n",
    "    \n",
    "    dz2 = (a2 - y)\n",
    "    dw2 = (1/m)*np.dot(dz2, a1.T)\n",
    "    db2 = (1/m)*np.sum(dz2, axis = 1, keepdims = True)\n",
    "    \n",
    "    if(activation == 'relu'):\n",
    "        dz1 = (1/m)*np.dot(w2.T, dz2)*derivative_relu(a1)\n",
    "    else:\n",
    "        dz1 = (1/m)*np.dot(w2.T, dz2)*derivative_tanh(a1)\n",
    "    \n",
    "    \n",
    "    dw1 = (1/m)*np.dot(dz1, x.T)\n",
    "    db1 = (1/m)*np.sum(dz1, axis = 1, keepdims = True)\n",
    "    \n",
    "    gradients = {\n",
    "        \"dw1\" : dw1,\n",
    "        \"db1\" : db1,\n",
    "        \"dw2\" : dw2,\n",
    "        \"db2\" : db2\n",
    "    }\n",
    "    \n",
    "    return gradients"
   ]
  },
  {
   "cell_type": "markdown",
   "id": "887df47d",
   "metadata": {},
   "source": [
    "Updating parameters"
   ]
  },
  {
   "cell_type": "code",
   "execution_count": 11,
   "id": "feb9e8ee",
   "metadata": {},
   "outputs": [],
   "source": [
    "def update_parameters(parameters, gradients, learning_rate):\n",
    "    \n",
    "    w1 = parameters['w1']\n",
    "    b1 = parameters['b1']\n",
    "    w2 = parameters['w2']\n",
    "    b2 = parameters['b2']\n",
    "    \n",
    "    dw1 = gradients['dw1']\n",
    "    db1 = gradients['db1']\n",
    "    dw2 = gradients['dw2']\n",
    "    db2 = gradients['db2']\n",
    "    \n",
    "    w1 = w1 - learning_rate*dw1\n",
    "    b1 = b1 - learning_rate*db1\n",
    "    w2 = w2 - learning_rate*dw2\n",
    "    b2 = b2 - learning_rate*db2\n",
    "    \n",
    "    parameters = {\n",
    "        \"w1\" : w1,\n",
    "        \"b1\" : b1,\n",
    "        \"w2\" : w2,\n",
    "        \"b2\" : b2\n",
    "    }\n",
    "    \n",
    "    return parameters"
   ]
  },
  {
   "cell_type": "markdown",
   "id": "b0afa9f9",
   "metadata": {},
   "source": [
    "Builds the neural network model"
   ]
  },
  {
   "cell_type": "code",
   "execution_count": 12,
   "id": "973294d3",
   "metadata": {},
   "outputs": [],
   "source": [
    "def model(x, y, n_h, learning_rate, iterations, batch_size, activation):\n",
    "    \n",
    "    n_x = x.shape[0]\n",
    "    n_y = y.shape[0]\n",
    "    \n",
    "    cost_list = []\n",
    "    \n",
    "    parameters = initialize_parameters(n_x, n_h, n_y)\n",
    "    print(\"Iterations: \", iterations, \"\\n\"\n",
    "          \"Learning Rate: \",learning_rate, \"\\n\"\n",
    "         \"Batch Size: \",batch_size, \"\\n\"\n",
    "         \"Activation: \",activation, \"\\n\"\n",
    "         \"Hidden Layer Neuron Count: \",n_h, \"\\n\")\n",
    "    for i in range(iterations):\n",
    "        \n",
    "        forward_cache = forward_propagation(x, parameters, activation)\n",
    "        \n",
    "        cost = cost_function(forward_cache['a2'], y, batch_size)\n",
    "        \n",
    "        gradients = backward_prop(x, y, parameters, forward_cache, activation)\n",
    "        \n",
    "        parameters = update_parameters(parameters, gradients, learning_rate)\n",
    "        \n",
    "        cost_list.append(cost)\n",
    "        \n",
    "        if(i%(iterations/5) == 0):\n",
    "            print(\"Cost after\", i, \"iterations is:\", round(cost, 3))\n",
    "    print(\"Cost after\", iterations, \"iterations is:\", round(cost, 3))\n",
    "    return parameters, cost_list"
   ]
  },
  {
   "cell_type": "code",
   "execution_count": 14,
   "id": "a8d92b8d",
   "metadata": {},
   "outputs": [],
   "source": [
    "def accuracy(inp, labels, parameters, activation):\n",
    "    forward_cache = forward_propagation(inp, parameters, activation)\n",
    "    a_out = forward_cache['a2']   # containes propabilities with shape(10, 1)\n",
    "    \n",
    "    a_out = np.argmax(a_out, 0)  # 0 represents row wise \n",
    "    \n",
    "    labels = np.argmax(labels, 0)\n",
    "    \n",
    "    acc = np.mean(a_out == labels)*100\n",
    "    \n",
    "    return round(acc,2)"
   ]
  },
  {
   "cell_type": "code",
   "execution_count": 15,
   "id": "00f7c430",
   "metadata": {
    "scrolled": true
   },
   "outputs": [
    {
     "name": "stdout",
     "output_type": "stream",
     "text": [
      "Iterations:  100 \n",
      "Learning Rate:  0.02 \n",
      "Batch Size:  128 \n",
      "Activation:  relu \n",
      "Hidden Layer Neuron Count:  128 \n",
      "\n",
      "Cost after 0 iterations is: 376.283\n",
      "Cost after 20 iterations is: 371.725\n",
      "Cost after 40 iterations is: 368.392\n",
      "Cost after 60 iterations is: 365.992\n",
      "Cost after 80 iterations is: 364.284\n",
      "Cost after 100 iterations is: 363.125\n",
      "Accuracy of Train Dataset 19.63 %\n",
      "Accuracy of Test Dataset 20.11 % \n",
      "\n",
      "Iterations:  100 \n",
      "Learning Rate:  0.01 \n",
      "Batch Size:  128 \n",
      "Activation:  relu \n",
      "Hidden Layer Neuron Count:  128 \n",
      "\n",
      "Cost after 0 iterations is: 376.733\n",
      "Cost after 20 iterations is: 373.701\n",
      "Cost after 40 iterations is: 371.196\n",
      "Cost after 60 iterations is: 369.142\n",
      "Cost after 80 iterations is: 367.466\n",
      "Cost after 100 iterations is: 366.167\n",
      "Accuracy of Train Dataset 18.6 %\n",
      "Accuracy of Test Dataset 18.47 % \n",
      "\n",
      "Iterations:  100 \n",
      "Learning Rate:  0.005 \n",
      "Batch Size:  128 \n",
      "Activation:  relu \n",
      "Hidden Layer Neuron Count:  128 \n",
      "\n",
      "Cost after 0 iterations is: 376.715\n",
      "Cost after 20 iterations is: 375.09\n",
      "Cost after 40 iterations is: 373.611\n",
      "Cost after 60 iterations is: 372.268\n",
      "Cost after 80 iterations is: 371.05\n",
      "Cost after 100 iterations is: 370.001\n",
      "Accuracy of Train Dataset 18.46 %\n",
      "Accuracy of Test Dataset 18.18 % \n",
      "\n",
      "Iterations:  100 \n",
      "Learning Rate:  0.02 \n",
      "Batch Size:  128 \n",
      "Activation:  relu \n",
      "Hidden Layer Neuron Count:  16 \n",
      "\n",
      "Cost after 0 iterations is: 376.551\n",
      "Cost after 20 iterations is: 374.837\n",
      "Cost after 40 iterations is: 373.293\n",
      "Cost after 60 iterations is: 371.904\n",
      "Cost after 80 iterations is: 370.658\n",
      "Cost after 100 iterations is: 369.595\n",
      "Accuracy of Train Dataset 18.59 %\n",
      "Accuracy of Test Dataset 18.58 % \n",
      "\n",
      "Iterations:  100 \n",
      "Learning Rate:  0.02 \n",
      "Batch Size:  128 \n",
      "Activation:  relu \n",
      "Hidden Layer Neuron Count:  64 \n",
      "\n",
      "Cost after 0 iterations is: 376.394\n",
      "Cost after 20 iterations is: 371.907\n",
      "Cost after 40 iterations is: 368.629\n",
      "Cost after 60 iterations is: 366.273\n",
      "Cost after 80 iterations is: 364.597\n",
      "Cost after 100 iterations is: 363.464\n",
      "Accuracy of Train Dataset 18.83 %\n",
      "Accuracy of Test Dataset 18.93 % \n",
      "\n",
      "Iterations:  100 \n",
      "Learning Rate:  0.02 \n",
      "Batch Size:  128 \n",
      "Activation:  relu \n",
      "Hidden Layer Neuron Count:  128 \n",
      "\n",
      "Cost after 0 iterations is: 376.422\n",
      "Cost after 20 iterations is: 371.132\n",
      "Cost after 40 iterations is: 367.526\n",
      "Cost after 60 iterations is: 365.12\n",
      "Cost after 80 iterations is: 363.533\n",
      "Cost after 100 iterations is: 362.532\n",
      "Accuracy of Train Dataset 20.16 %\n",
      "Accuracy of Test Dataset 19.79 % \n",
      "\n",
      "Iterations:  100 \n",
      "Learning Rate:  0.02 \n",
      "Batch Size:  64 \n",
      "Activation:  relu \n",
      "Hidden Layer Neuron Count:  128 \n",
      "\n",
      "Cost after 0 iterations is: 751.229\n",
      "Cost after 20 iterations is: 738.125\n",
      "Cost after 40 iterations is: 730.474\n",
      "Cost after 60 iterations is: 726.132\n",
      "Cost after 80 iterations is: 723.68\n",
      "Cost after 100 iterations is: 722.327\n",
      "Accuracy of Train Dataset 19.56 %\n",
      "Accuracy of Test Dataset 18.77 % \n",
      "\n",
      "Iterations:  100 \n",
      "Learning Rate:  0.02 \n",
      "Batch Size:  128 \n",
      "Activation:  relu \n",
      "Hidden Layer Neuron Count:  128 \n",
      "\n",
      "Cost after 0 iterations is: 376.153\n",
      "Cost after 20 iterations is: 369.801\n",
      "Cost after 40 iterations is: 365.916\n",
      "Cost after 60 iterations is: 363.609\n",
      "Cost after 80 iterations is: 362.254\n",
      "Cost after 100 iterations is: 361.487\n",
      "Accuracy of Train Dataset 20.24 %\n",
      "Accuracy of Test Dataset 20.8 % \n",
      "\n",
      "Iterations:  100 \n",
      "Learning Rate:  0.02 \n",
      "Batch Size:  256 \n",
      "Activation:  relu \n",
      "Hidden Layer Neuron Count:  128 \n",
      "\n",
      "Cost after 0 iterations is: 188.064\n",
      "Cost after 20 iterations is: 185.136\n",
      "Cost after 40 iterations is: 183.236\n",
      "Cost after 60 iterations is: 182.033\n",
      "Cost after 80 iterations is: 181.279\n",
      "Cost after 100 iterations is: 180.825\n",
      "Accuracy of Train Dataset 18.38 %\n",
      "Accuracy of Test Dataset 18.2 % \n",
      "\n",
      "Iterations:  100 \n",
      "Learning Rate:  0.005 \n",
      "Batch Size:  128 \n",
      "Activation:  tanh \n",
      "Hidden Layer Neuron Count:  128 \n",
      "\n",
      "Cost after 0 iterations is: 377.345\n",
      "Cost after 20 iterations is: 374.553\n",
      "Cost after 40 iterations is: 372.184\n",
      "Cost after 60 iterations is: 370.187\n",
      "Cost after 80 iterations is: 368.511\n",
      "Cost after 100 iterations is: 367.175\n",
      "Accuracy of Train Dataset 19.57 %\n",
      "Accuracy of Test Dataset 20.0 %\n"
     ]
    }
   ],
   "source": [
    "Parameters, Cost_list = model(train.T, train_label.T,128, 0.02, 100, 128, \"relu\")\n",
    "print(\"Accuracy of Train Dataset\", accuracy(train.T, train_label.T, Parameters, relu), \"%\")\n",
    "print(\"Accuracy of Test Dataset\", round(accuracy(test.T, test_label.T, Parameters, relu), 2), \"%\", \"\\n\")\n",
    "\n",
    "Parameters, Cost_list = model(train.T, train_label.T,128, 0.01, 100, 128, \"relu\")\n",
    "print(\"Accuracy of Train Dataset\", accuracy(train.T, train_label.T, Parameters, relu), \"%\")\n",
    "print(\"Accuracy of Test Dataset\", round(accuracy(test.T, test_label.T, Parameters, relu), 2), \"%\", \"\\n\")\n",
    "\n",
    "Parameters, Cost_list = model(train.T, train_label.T,128, 0.005, 100, 128, \"relu\")\n",
    "print(\"Accuracy of Train Dataset\", accuracy(train.T, train_label.T, Parameters, relu), \"%\")\n",
    "print(\"Accuracy of Test Dataset\", round(accuracy(test.T, test_label.T, Parameters, relu), 2), \"%\", \"\\n\")\n",
    "\n",
    "Parameters, Cost_list = model(train.T, train_label.T,16, 0.02, 100, 128, \"relu\")\n",
    "print(\"Accuracy of Train Dataset\", accuracy(train.T, train_label.T, Parameters, relu), \"%\")\n",
    "print(\"Accuracy of Test Dataset\", round(accuracy(test.T, test_label.T, Parameters, relu), 2), \"%\", \"\\n\")\n",
    "\n",
    "Parameters, Cost_list = model(train.T, train_label.T,64, 0.02, 100, 128, \"relu\")\n",
    "print(\"Accuracy of Train Dataset\", accuracy(train.T, train_label.T, Parameters, relu), \"%\")\n",
    "print(\"Accuracy of Test Dataset\", round(accuracy(test.T, test_label.T, Parameters, relu), 2), \"%\", \"\\n\")\n",
    "\n",
    "Parameters, Cost_list = model(train.T, train_label.T,128, 0.02, 100, 128, \"relu\")\n",
    "print(\"Accuracy of Train Dataset\", accuracy(train.T, train_label.T, Parameters, relu), \"%\")\n",
    "print(\"Accuracy of Test Dataset\", round(accuracy(test.T, test_label.T, Parameters, relu), 2), \"%\", \"\\n\")\n",
    "\n",
    "Parameters, Cost_list = model(train.T, train_label.T,128, 0.02, 100, 64, \"relu\")\n",
    "print(\"Accuracy of Train Dataset\", accuracy(train.T, train_label.T, Parameters, relu), \"%\")\n",
    "print(\"Accuracy of Test Dataset\", round(accuracy(test.T, test_label.T, Parameters, relu), 2), \"%\", \"\\n\")\n",
    "\n",
    "Parameters, Cost_list = model(train.T, train_label.T,128, 0.02, 100, 128, \"relu\")\n",
    "print(\"Accuracy of Train Dataset\", accuracy(train.T, train_label.T, Parameters, relu), \"%\")\n",
    "print(\"Accuracy of Test Dataset\", round(accuracy(test.T, test_label.T, Parameters, relu), 2), \"%\", \"\\n\")\n",
    "\n",
    "Parameters, Cost_list = model(train.T, train_label.T,128, 0.02, 100, 256, \"relu\")\n",
    "print(\"Accuracy of Train Dataset\", accuracy(train.T, train_label.T, Parameters, relu), \"%\")\n",
    "print(\"Accuracy of Test Dataset\", round(accuracy(test.T, test_label.T, Parameters, relu), 2), \"%\", \"\\n\")\n",
    "\n",
    "Parameters, Cost_list = model(train.T, train_label.T,128, 0.005, 100, 128, \"tanh\")\n",
    "print(\"Accuracy of Train Dataset\", accuracy(train.T, train_label.T, Parameters, relu), \"%\")\n",
    "print(\"Accuracy of Test Dataset\", round(accuracy(test.T, test_label.T, Parameters, relu), 2), \"%\" )"
   ]
  },
  {
   "cell_type": "markdown",
   "id": "a664ab47",
   "metadata": {},
   "source": [
    "##### *Learning Rate*\n",
    "\n",
    "| Learning Rate | Accuracy Train | Accuracy Test |\n",
    "| :- | :-: | :-: |\n",
    "| 0.02 | 19.63 % | 20.11 % |\n",
    "| 0.01 | 18.6 %  | 18.47 %  |\n",
    "| 0.005 | 18.46 %  | 18.18 %  |\n",
    "\n",
    "Decreasing learning rate to much doesnt help. Around 0.02 looks great\n",
    "\n",
    "##### *Hidden Layer Neuron Count*\n",
    "\n",
    "| HLNC | Accuracy Train | Accuracy Test |\n",
    "| :- | :-: | :-: |\n",
    "| 16 | 18.59 % | 18.58 %  |\n",
    "| 64 | 18.83 %  | 18.93 %   |\n",
    "| 128 | 20.16 %  | 19.79 %   |\n",
    "\n",
    "Increasing neuron count gives better accuracy. But increasing to much will not great because of high compution time. It can also cause to overfitting.\n",
    "\n",
    "##### *Batch Size*\n",
    "\n",
    "| batch _size | Accuracy Train | Accuracy Test |\n",
    "| :- | :-: | :-: |\n",
    "| 64 | 18.4 % | 17.93 %|\n",
    "| 128 | 18.55 %  | 18.2 % |\n",
    "| 256 | 18.44 %  | 18.09 % |\n",
    "\n",
    "Batch size has no effect on accuracy\n",
    "\n",
    "##### *Activation Function*\n",
    "\n",
    "| Act. Func. | Accuracy Train | Accuracy Test |\n",
    "| :- | :-: | :-: |\n",
    "| relu | 19.63 % | 20.11 % |\n",
    "| tanh | 19.57 %  | 20.0 % |\n",
    "\n",
    "For both activation function accuracies are similar"
   ]
  },
  {
   "cell_type": "markdown",
   "id": "3ceb65ca",
   "metadata": {},
   "source": [
    "# Part 2: Convolutional Neural Network\n",
    "\n",
    "Imports"
   ]
  },
  {
   "cell_type": "code",
   "execution_count": 3,
   "id": "23b657af",
   "metadata": {},
   "outputs": [],
   "source": [
    "import os\n",
    "import shutil\n",
    "import numpy as np\n",
    "import pandas as pd\n",
    "import seaborn as sns\n",
    "from tqdm import tqdm\n",
    "import matplotlib.pyplot as plt\n",
    "import torch\n",
    "import torchvision\n",
    "from torch import nn\n",
    "import torch.optim as optim\n",
    "from torch.utils import data\n",
    "import torch.nn.functional as F\n",
    "from sklearn.metrics import confusion_matrix"
   ]
  },
  {
   "cell_type": "markdown",
   "id": "383753a8",
   "metadata": {},
   "source": [
    "Creating train and test datasets folders"
   ]
  },
  {
   "cell_type": "code",
   "execution_count": 4,
   "id": "bd73abba",
   "metadata": {},
   "outputs": [
    {
     "name": "stderr",
     "output_type": "stream",
     "text": [
      "100%|██████████| 10/10 [00:28<00:00,  2.90s/it]\n",
      "100%|██████████| 10/10 [00:07<00:00,  1.31it/s]\n"
     ]
    }
   ],
   "source": [
    "os.mkdir('C:/Users/90552/Desktop/animals/train/') \n",
    "for img_class in os.listdir(\"C:/Users/90552/Desktop/animals/raw-img/\"):\n",
    "    os.mkdir('C:/Users/90552/Desktop/animals/train/' + img_class + '/')\n",
    "\n",
    "#test folders\n",
    "os.mkdir('C:/Users/90552/Desktop/animals/test/')\n",
    "for img_class in os.listdir(\"C:/Users/90552/Desktop/animals/raw-img/\"):\n",
    "    os.mkdir('C:/Users/90552/Desktop/animals/test/' + img_class + '/')\n",
    "\n",
    "#train dataset\n",
    "for img_class in tqdm(os.listdir('C:/Users/90552/Desktop/animals/train/')):\n",
    "    img_ls = os.listdir(\"C:/Users/90552/Desktop/animals/raw-img/\" + img_class)\n",
    "    for img in img_ls[:int(len(img_ls) * 0.8)]:\n",
    "\n",
    "        shutil.copy(\"C:/Users/90552/Desktop/animals/raw-img/\" + img_class + '/' + img,\n",
    "                    'C:/Users/90552/Desktop/animals/train/' + img_class + '/' + img)\n",
    "\n",
    "\n",
    "#test dataset\n",
    "for img_class in tqdm(os.listdir('C:/Users/90552/Desktop/animals/test/')):\n",
    "    img_ls = os.listdir(\"C:/Users/90552/Desktop/animals/raw-img/\" + img_class)\n",
    "    for img in img_ls[int(len(img_ls) * 0.8):]:\n",
    "\n",
    "        shutil.copy(\"C:/Users/90552/Desktop/animals/raw-img/\" + img_class + '/' + img,\n",
    "                    'C:/Users/90552/Desktop/animals/test/' + img_class + '/' + img)\n",
    "\n",
    "train_data_path = 'C:/Users/90552/Desktop/animals/train/'\n",
    "test_data_path = 'C:/Users/90552/Desktop/animals/test/'"
   ]
  },
  {
   "cell_type": "markdown",
   "id": "d50739b1",
   "metadata": {},
   "source": [
    "Transform images to tensors them load them with batch size 64"
   ]
  },
  {
   "cell_type": "code",
   "execution_count": 5,
   "id": "83ab7d4b",
   "metadata": {},
   "outputs": [],
   "source": [
    "from torchvision import transforms\n",
    "\n",
    "transforms = transforms.Compose([\n",
    "    transforms.Resize((64,64)),\n",
    "    transforms.ToTensor(),\n",
    "    transforms.Normalize(mean=[0.485, 0.456, 0.406],\n",
    "                    std=[0.229, 0.224, 0.225] )\n",
    "    ])\n",
    "\n",
    "# this function get folder with images\n",
    "train_data = torchvision.datasets.ImageFolder(root=train_data_path,\n",
    "                                              transform=transforms)\n",
    "\n",
    "test_data = torchvision.datasets.ImageFolder(root=test_data_path,\n",
    "                                             transform=transforms)\n",
    "\n",
    "# %% [code]\n",
    "batch_size=64\n",
    "train_data_loader = data.DataLoader(train_data, shuffle=True,\n",
    "                                    batch_size=batch_size)\n",
    "\n",
    "test_data_loader  = data.DataLoader(test_data, shuffle=True,\n",
    "                                    batch_size=batch_size)"
   ]
  },
  {
   "cell_type": "markdown",
   "id": "92851539",
   "metadata": {},
   "source": [
    "Loading the pretrained model and finetuning, layer size changed to 25088-512-10. 10 is output layer\n",
    "\n",
    "For part2.1 all layers finetuned"
   ]
  },
  {
   "cell_type": "code",
   "execution_count": 6,
   "id": "09f0ab10",
   "metadata": {},
   "outputs": [
    {
     "name": "stdout",
     "output_type": "stream",
     "text": [
      "VGG(\n",
      "  (features): Sequential(\n",
      "    (0): Conv2d(3, 64, kernel_size=(3, 3), stride=(1, 1), padding=(1, 1))\n",
      "    (1): ReLU(inplace=True)\n",
      "    (2): Conv2d(64, 64, kernel_size=(3, 3), stride=(1, 1), padding=(1, 1))\n",
      "    (3): ReLU(inplace=True)\n",
      "    (4): MaxPool2d(kernel_size=2, stride=2, padding=0, dilation=1, ceil_mode=False)\n",
      "    (5): Conv2d(64, 128, kernel_size=(3, 3), stride=(1, 1), padding=(1, 1))\n",
      "    (6): ReLU(inplace=True)\n",
      "    (7): Conv2d(128, 128, kernel_size=(3, 3), stride=(1, 1), padding=(1, 1))\n",
      "    (8): ReLU(inplace=True)\n",
      "    (9): MaxPool2d(kernel_size=2, stride=2, padding=0, dilation=1, ceil_mode=False)\n",
      "    (10): Conv2d(128, 256, kernel_size=(3, 3), stride=(1, 1), padding=(1, 1))\n",
      "    (11): ReLU(inplace=True)\n",
      "    (12): Conv2d(256, 256, kernel_size=(3, 3), stride=(1, 1), padding=(1, 1))\n",
      "    (13): ReLU(inplace=True)\n",
      "    (14): Conv2d(256, 256, kernel_size=(3, 3), stride=(1, 1), padding=(1, 1))\n",
      "    (15): ReLU(inplace=True)\n",
      "    (16): Conv2d(256, 256, kernel_size=(3, 3), stride=(1, 1), padding=(1, 1))\n",
      "    (17): ReLU(inplace=True)\n",
      "    (18): MaxPool2d(kernel_size=2, stride=2, padding=0, dilation=1, ceil_mode=False)\n",
      "    (19): Conv2d(256, 512, kernel_size=(3, 3), stride=(1, 1), padding=(1, 1))\n",
      "    (20): ReLU(inplace=True)\n",
      "    (21): Conv2d(512, 512, kernel_size=(3, 3), stride=(1, 1), padding=(1, 1))\n",
      "    (22): ReLU(inplace=True)\n",
      "    (23): Conv2d(512, 512, kernel_size=(3, 3), stride=(1, 1), padding=(1, 1))\n",
      "    (24): ReLU(inplace=True)\n",
      "    (25): Conv2d(512, 512, kernel_size=(3, 3), stride=(1, 1), padding=(1, 1))\n",
      "    (26): ReLU(inplace=True)\n",
      "    (27): MaxPool2d(kernel_size=2, stride=2, padding=0, dilation=1, ceil_mode=False)\n",
      "    (28): Conv2d(512, 512, kernel_size=(3, 3), stride=(1, 1), padding=(1, 1))\n",
      "    (29): ReLU(inplace=True)\n",
      "    (30): Conv2d(512, 512, kernel_size=(3, 3), stride=(1, 1), padding=(1, 1))\n",
      "    (31): ReLU(inplace=True)\n",
      "    (32): Conv2d(512, 512, kernel_size=(3, 3), stride=(1, 1), padding=(1, 1))\n",
      "    (33): ReLU(inplace=True)\n",
      "    (34): Conv2d(512, 512, kernel_size=(3, 3), stride=(1, 1), padding=(1, 1))\n",
      "    (35): ReLU(inplace=True)\n",
      "    (36): MaxPool2d(kernel_size=2, stride=2, padding=0, dilation=1, ceil_mode=False)\n",
      "  )\n",
      "  (avgpool): AdaptiveAvgPool2d(output_size=(7, 7))\n",
      "  (classifier): Sequential(\n",
      "    (0): Linear(in_features=25088, out_features=4096, bias=True)\n",
      "    (1): ReLU(inplace=True)\n",
      "    (2): Dropout(p=0.5, inplace=False)\n",
      "    (3): Linear(in_features=4096, out_features=4096, bias=True)\n",
      "    (4): ReLU(inplace=True)\n",
      "    (5): Dropout(p=0.5, inplace=False)\n",
      "    (6): Linear(in_features=4096, out_features=1000, bias=True)\n",
      "  )\n",
      ")\n",
      "features.0.weight\n",
      "features.0.bias\n",
      "features.2.weight\n",
      "features.2.bias\n",
      "features.5.weight\n",
      "features.5.bias\n",
      "features.7.weight\n",
      "features.7.bias\n",
      "features.10.weight\n",
      "features.10.bias\n",
      "features.12.weight\n",
      "features.12.bias\n",
      "features.14.weight\n",
      "features.14.bias\n",
      "features.16.weight\n",
      "features.16.bias\n",
      "features.19.weight\n",
      "features.19.bias\n",
      "features.21.weight\n",
      "features.21.bias\n",
      "features.23.weight\n",
      "features.23.bias\n",
      "features.25.weight\n",
      "features.25.bias\n",
      "features.28.weight\n",
      "features.28.bias\n",
      "features.30.weight\n",
      "features.30.bias\n",
      "features.32.weight\n",
      "features.32.bias\n",
      "features.34.weight\n",
      "features.34.bias\n",
      "classifier.0.weight\n",
      "classifier.0.bias\n",
      "classifier.3.weight\n",
      "classifier.3.bias\n",
      "classifier.6.weight\n",
      "classifier.6.bias\n",
      "VGG(\n",
      "  (features): Sequential(\n",
      "    (0): Conv2d(3, 64, kernel_size=(3, 3), stride=(1, 1), padding=(1, 1))\n",
      "    (1): ReLU(inplace=True)\n",
      "    (2): Conv2d(64, 64, kernel_size=(3, 3), stride=(1, 1), padding=(1, 1))\n",
      "    (3): ReLU(inplace=True)\n",
      "    (4): MaxPool2d(kernel_size=2, stride=2, padding=0, dilation=1, ceil_mode=False)\n",
      "    (5): Conv2d(64, 128, kernel_size=(3, 3), stride=(1, 1), padding=(1, 1))\n",
      "    (6): ReLU(inplace=True)\n",
      "    (7): Conv2d(128, 128, kernel_size=(3, 3), stride=(1, 1), padding=(1, 1))\n",
      "    (8): ReLU(inplace=True)\n",
      "    (9): MaxPool2d(kernel_size=2, stride=2, padding=0, dilation=1, ceil_mode=False)\n",
      "    (10): Conv2d(128, 256, kernel_size=(3, 3), stride=(1, 1), padding=(1, 1))\n",
      "    (11): ReLU(inplace=True)\n",
      "    (12): Conv2d(256, 256, kernel_size=(3, 3), stride=(1, 1), padding=(1, 1))\n",
      "    (13): ReLU(inplace=True)\n",
      "    (14): Conv2d(256, 256, kernel_size=(3, 3), stride=(1, 1), padding=(1, 1))\n",
      "    (15): ReLU(inplace=True)\n",
      "    (16): Conv2d(256, 256, kernel_size=(3, 3), stride=(1, 1), padding=(1, 1))\n",
      "    (17): ReLU(inplace=True)\n",
      "    (18): MaxPool2d(kernel_size=2, stride=2, padding=0, dilation=1, ceil_mode=False)\n",
      "    (19): Conv2d(256, 512, kernel_size=(3, 3), stride=(1, 1), padding=(1, 1))\n",
      "    (20): ReLU(inplace=True)\n",
      "    (21): Conv2d(512, 512, kernel_size=(3, 3), stride=(1, 1), padding=(1, 1))\n",
      "    (22): ReLU(inplace=True)\n",
      "    (23): Conv2d(512, 512, kernel_size=(3, 3), stride=(1, 1), padding=(1, 1))\n",
      "    (24): ReLU(inplace=True)\n",
      "    (25): Conv2d(512, 512, kernel_size=(3, 3), stride=(1, 1), padding=(1, 1))\n",
      "    (26): ReLU(inplace=True)\n",
      "    (27): MaxPool2d(kernel_size=2, stride=2, padding=0, dilation=1, ceil_mode=False)\n",
      "    (28): Conv2d(512, 512, kernel_size=(3, 3), stride=(1, 1), padding=(1, 1))\n",
      "    (29): ReLU(inplace=True)\n",
      "    (30): Conv2d(512, 512, kernel_size=(3, 3), stride=(1, 1), padding=(1, 1))\n",
      "    (31): ReLU(inplace=True)\n",
      "    (32): Conv2d(512, 512, kernel_size=(3, 3), stride=(1, 1), padding=(1, 1))\n",
      "    (33): ReLU(inplace=True)\n",
      "    (34): Conv2d(512, 512, kernel_size=(3, 3), stride=(1, 1), padding=(1, 1))\n",
      "    (35): ReLU(inplace=True)\n",
      "    (36): MaxPool2d(kernel_size=2, stride=2, padding=0, dilation=1, ceil_mode=False)\n",
      "  )\n",
      "  (avgpool): AdaptiveAvgPool2d(output_size=(7, 7))\n",
      "  (classifier): Sequential(\n",
      "    (0): Linear(in_features=25088, out_features=512, bias=True)\n",
      "    (1): ReLU()\n",
      "    (2): Linear(in_features=512, out_features=10, bias=True)\n",
      "  )\n",
      ")\n"
     ]
    }
   ],
   "source": [
    "from torchvision import models\n",
    "transfer_model = torchvision.models.vgg19(pretrained=True)\n",
    "print(transfer_model)\n",
    "\n",
    "for name, param in transfer_model.named_parameters(): #finetune all layers\n",
    "    print(name)\n",
    "    param.requires_grad = True\n",
    "    \n",
    "#transfer_model.classifier = nn.Linear(25088,10)\n",
    "transfer_model.classifier = nn.Sequential(nn.Linear(25088,512),\n",
    "                                nn.ReLU(),\n",
    "                                nn.Linear(512,10))\n",
    "print(transfer_model)"
   ]
  },
  {
   "cell_type": "markdown",
   "id": "df2e6cf1",
   "metadata": {},
   "source": [
    "Check if cuda available and set up optimizer. Adam optimizer is used"
   ]
  },
  {
   "cell_type": "code",
   "execution_count": 7,
   "id": "8e29b640",
   "metadata": {},
   "outputs": [],
   "source": [
    "if torch.cuda.is_available():\n",
    "    device = torch.device(\"cuda\")\n",
    "else:\n",
    "    device = torch.device(\"cpu\")\n",
    "\n",
    "model = transfer_model\n",
    "model.to(device)\n",
    "# add optimizer\n",
    "optimizer = optim.Adam(model.parameters(), lr=0.0003, amsgrad=True)\n",
    "epochs = 3\n",
    "loss_fn = torch.nn.CrossEntropyLoss()\n",
    "loss_lst, loss_val_lst = [], []"
   ]
  },
  {
   "cell_type": "markdown",
   "id": "a1c59be5",
   "metadata": {},
   "source": [
    "Calculate accuracy, training loss, validation loss"
   ]
  },
  {
   "cell_type": "code",
   "execution_count": 8,
   "id": "6666b923",
   "metadata": {},
   "outputs": [],
   "source": [
    "def calc_acc(epochs):    \n",
    "    for epoch in range(epochs):\n",
    "        training_loss = 0.0\n",
    "        valid_loss = 0.0\n",
    "        model.train()\n",
    "        for batch in train_data_loader:\n",
    "            optimizer.zero_grad()\n",
    "            inputs, target = batch\n",
    "            inputs = inputs.to(device)\n",
    "            target = target.to(device)\n",
    "            output = model(inputs)\n",
    "\n",
    "            loss = loss_fn(output, target)\n",
    "            loss.backward()\n",
    "            optimizer.step()\n",
    "            training_loss += loss.data.item()\n",
    "        loss_lst.append(training_loss)\n",
    "\n",
    "        model.eval()\n",
    "        num_correct = 0\n",
    "        num_examples = 0\n",
    "        for batch in test_data_loader:\n",
    "            inputs, targets = batch\n",
    "            inputs = inputs.to(device)\n",
    "            output = model(inputs)\n",
    "            targets = targets.to(device)\n",
    "            loss = loss_fn(output,targets)\n",
    "            valid_loss += loss.data.item()\n",
    "            correct = torch.eq(torch.max(F.softmax(output), dim=1)[1],\n",
    "                            targets).view(-1)\n",
    "            num_correct += torch.sum(correct).item()\n",
    "            num_examples += correct.shape[0]\n",
    "        loss_val_lst.append(valid_loss)\n",
    "\n",
    "        print('Epoch: {}, Training Loss: {:.2f}, \\\n",
    "            Validation Loss: {:.2f}, \\\n",
    "            Accuracy = {:.2f}'.format(epoch, training_loss, \\\n",
    "            valid_loss, num_correct / num_examples))"
   ]
  },
  {
   "cell_type": "code",
   "execution_count": 9,
   "id": "8dd4d504",
   "metadata": {
    "scrolled": true
   },
   "outputs": [
    {
     "name": "stderr",
     "output_type": "stream",
     "text": [
      "<ipython-input-8-ec95b1a9cf82>:29: UserWarning: Implicit dimension choice for softmax has been deprecated. Change the call to include dim=X as an argument.\n",
      "  correct = torch.eq(torch.max(F.softmax(output), dim=1)[1],\n"
     ]
    },
    {
     "name": "stdout",
     "output_type": "stream",
     "text": [
      "Epoch: 0, Training Loss: 435.33,             Validation Loss: 83.46,             Accuracy = 0.65\n",
      "Epoch: 1, Training Loss: 238.39,             Validation Loss: 57.09,             Accuracy = 0.78\n"
     ]
    }
   ],
   "source": [
    "calc_acc(2)"
   ]
  },
  {
   "cell_type": "markdown",
   "id": "929578d9",
   "metadata": {},
   "source": [
    "Finetune fully connected layers"
   ]
  },
  {
   "cell_type": "code",
   "execution_count": 10,
   "id": "2eace97d",
   "metadata": {
    "scrolled": true
   },
   "outputs": [
    {
     "name": "stderr",
     "output_type": "stream",
     "text": [
      "<ipython-input-8-ec95b1a9cf82>:29: UserWarning: Implicit dimension choice for softmax has been deprecated. Change the call to include dim=X as an argument.\n",
      "  correct = torch.eq(torch.max(F.softmax(output), dim=1)[1],\n"
     ]
    },
    {
     "name": "stdout",
     "output_type": "stream",
     "text": [
      "Epoch: 0, Training Loss: 152.88,             Validation Loss: 48.87,             Accuracy = 0.82\n",
      "Epoch: 1, Training Loss: 103.57,             Validation Loss: 42.16,             Accuracy = 0.84\n"
     ]
    }
   ],
   "source": [
    "for name, param in transfer_model.named_parameters():\n",
    "    if(name == \"classifier.0.weight\" or \"classifier.3.weight\"): #if fully connected\n",
    "        param.requires_grad = True\n",
    "    else:\n",
    "        param.requires_grad = False\n",
    "\n",
    "loss_fn = torch.nn.CrossEntropyLoss()\n",
    "loss_lst, loss_val_lst = [], []\n",
    "calc_acc(2)"
   ]
  },
  {
   "cell_type": "markdown",
   "id": "5d7508f3",
   "metadata": {},
   "source": [
    "## Pros and Cons of Finetuning\n",
    "\n",
    "Pros:\n",
    "\n",
    "Reduced training time. By using pre-trained weights, the model's first few layers are already very effective. You just need to train the final layers of your model.\n",
    "\n",
    "Improved performance. Models you usually used are pre-trained on large scale datasets. Because CNNs performance improves with more training data, the lower-level filters of pre-trained models are probably superior to filters trained on smaller datasets.\n",
    "\n",
    "Counter over-fitting on small datasets.\n",
    "\n",
    "Cons:\n",
    "\n",
    "No guarantee that the initialization point of the weights is a good starting point; they could be stuck in a local minimum.\n",
    "\n",
    "Restricted architecture. The most important downside of using pre-trained models are that we are restricted to use exactly the same architecture, which might not be desirable. The good thing is that pre-trained weights are available for almost all state-of-the-art models.\n",
    "\n",
    "### Finetuning all layers vs only fully connected layers\n",
    "Due to limited memory, I can achieve only 2 epochs\n",
    "\n",
    "Finetuning all layers\n",
    "\n",
    "| Epochs | Training Loss | Validation Loss | Accuracy |\n",
    "| :- | :-: | :-: | :-: |\n",
    "| Epoch 0 | 435.33 | 83.46 | 0.65 |\n",
    "| Epoch1 | 238.39  | 57.09 | 0.78  |\n",
    "\n",
    "Finetuning fully connected layers\n",
    "\n",
    "| Epochs | Training Loss | Validation Loss | Accuracy |\n",
    "| :- | :-: | :-: | :-: |\n",
    "| Epoch 0 | 152.88 | 48.87 | 0.82 |\n",
    "| Epoch1 | 103.57  | 42.16 | 0.84  |\n",
    "\n",
    "Finetuning fully connected layers gives us a better results from all persfectives. Less train and validation loss and much better accuracy."
   ]
  },
  {
   "cell_type": "markdown",
   "id": "6cf06c41",
   "metadata": {},
   "source": [
    "Plotting heat-map"
   ]
  },
  {
   "cell_type": "code",
   "execution_count": 11,
   "id": "c16d6b68",
   "metadata": {},
   "outputs": [
    {
     "name": "stderr",
     "output_type": "stream",
     "text": [
      "100%|██████████| 82/82 [00:21<00:00,  3.90it/s]\n"
     ]
    },
    {
     "data": {
      "image/png": "[encoded data removed]",
      "text/plain": [
       "<Figure size 720x504 with 2 Axes>"
      ]
     },
     "metadata": {
      "needs_background": "light"
     },
     "output_type": "display_data"
    }
   ],
   "source": [
    "all_output = np.array([])\n",
    "all_targets = np.array([])\n",
    "\n",
    "for batch in tqdm(test_data_loader):\n",
    "    inputs, targets = batch\n",
    "    inputs = inputs.to(device)\n",
    "    output = model(inputs)\n",
    "    all_output = np.concatenate([all_output, output.max(dim=1).indices.cpu().numpy()])\n",
    "    all_targets = np.concatenate([all_targets, targets.numpy()])\n",
    "\n",
    "# %% [code]\n",
    "# plot confusion matrix\n",
    "conf_matr = confusion_matrix(all_output,\n",
    "                             all_targets)\n",
    "plt.figure(figsize = (10,7))\n",
    "sns.heatmap(conf_matr, annot=True);"
   ]
  },
  {
   "cell_type": "markdown",
   "id": "c2339b1a",
   "metadata": {},
   "source": [
    "Other metric scores"
   ]
  },
  {
   "cell_type": "code",
   "execution_count": 12,
   "id": "65078f54",
   "metadata": {},
   "outputs": [
    {
     "name": "stdout",
     "output_type": "stream",
     "text": [
      "Precision: 0.8105543963402739\n",
      "Recall: 0.8434047085766144\n",
      "F1 score: 0.8205578583919093\n"
     ]
    }
   ],
   "source": [
    "from sklearn.metrics import precision_score, recall_score, f1_score\n",
    "\n",
    "print(\"Precision:\", precision_score(all_output, all_targets, average='macro'))\n",
    "print(\"Recall:\", recall_score(all_output, all_targets, average='macro'))\n",
    "print(\"F1 score:\", f1_score(all_output, all_targets, average='macro'))"
   ]
  },
  {
   "cell_type": "markdown",
   "id": "dc2502a0",
   "metadata": {},
   "source": [
    "## Neural Network vs CNN\n",
    "\n",
    "Neural Network use one perceptron for each input (e.g. pixel in an image) and the amount of weights rapidly becomes unmanageable for large images. It includes too many parameters because it is fully connected. Each node is connected to every other node in next and the previous layer, forming a very dense web — resulting in redundancy and inefficiency. As a result, difficulties arise whilst training and overfitting can occur which makes it lose the ability to generalize.\n",
    "\n",
    "Another common problem is that MLPs react differently to an input (images) and its shifted version — they are not translation invariant. For example, if a picture of a cat appears in the top left of the image in one picture and the bottom right of another picture, the MLP will try to correct itself and assume that a cat will always appear in this section of the image.\n",
    "Hence, MLPs are not the best idea to use for image processing. One of the main problems is that spatial information is lost when the image is flattened(matrix to vector) into an MLP.\n",
    "\n",
    "We thus need a way to leverage the spatial correlation of the image features (pixels) in such a way that we can see the cat in our picture no matter where it may appear.\n",
    "\n",
    "The main purpose of the convolution step is to extract features from the input image. The convolutional layer is always the first step in a CNN.\n",
    "\n",
    "You have an input image, a feature detector, and a feature map. You take the filter and apply it pixel block by pixel block to the input image. You do this through the multiplication of the matrices.\n",
    "\n",
    "For this reasons CNN is prefrred over Neural Network for image classification. From our experiment, neural network gives low accuracy but our VGG-19 has a over %80 accuracy"
   ]
  },
  {
   "cell_type": "code",
   "execution_count": null,
   "id": "b7873c89",
   "metadata": {},
   "outputs": [],
   "source": []
  }
 ],
 "metadata": {
  "kernelspec": {
   "display_name": "Python 3",
   "language": "python",
   "name": "python3"
  },
  "language_info": {
   "codemirror_mode": {
    "name": "ipython",
    "version": 3
   },
   "file_extension": ".py",
   "mimetype": "text/x-python",
   "name": "python",
   "nbconvert_exporter": "python",
   "pygments_lexer": "ipython3",
   "version": "3.8.8"
  }
 },
 "nbformat": 4,
 "nbformat_minor": 5
}
